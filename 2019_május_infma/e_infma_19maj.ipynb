{
  "nbformat": 4,
  "nbformat_minor": 0,
  "metadata": {
    "colab": {
      "name": "e_infma_19maj.ipynb",
      "provenance": [],
      "authorship_tag": "ABX9TyN+PUXKztHpK36216lVKlis",
      "include_colab_link": true
    },
    "kernelspec": {
      "name": "python3",
      "display_name": "Python 3"
    },
    "language_info": {
      "name": "python"
    }
  },
  "cells": [
    {
      "cell_type": "markdown",
      "metadata": {
        "id": "view-in-github",
        "colab_type": "text"
      },
      "source": [
        "<a href=\"https://colab.research.google.com/github/OtterSolution/InfoErettsegiPython/blob/main/2019_m%C3%A1jus_infma/e_infma_19maj.ipynb\" target=\"_parent\"><img src=\"https://colab.research.google.com/assets/colab-badge.svg\" alt=\"Open In Colab\"/></a>"
      ]
    },
    {
      "cell_type": "markdown",
      "source": [
        "# 4. Tantárgyfelosztás\n",
        "A tantárgyfelosztás a tanév tervezésének alapvető dokumentuma. A tantárgyfelosztás azt tartalmazza, hogy a tanárok a tantárgyaikat mely osztályokban, hány órában tanítják. Ebben a feladatban egy négy évfolyamos gimnázium tantárgyfelosztásának adatait kell elemeznie. \n",
        "\n",
        "A tantárgyfelosztást ezúttal egy adatbázis-kezelő programmal előállított, egyszerű szerkezetű szöveges állományban kapja az alábbi minta szerint (Minden bejegyzést négy sor tárol.):\n",
        "```\n",
        "Albatrosz Aladin\n",
        "biologia\n",
        "9.a\n",
        "2\n",
        "Albatrosz Aladin\n",
        "osztalyfonoki\n",
        "9.a\n",
        "1 \n",
        "```\n",
        "…\n",
        "```\n",
        "Csincsilla Csilla\n",
        "matematika\n",
        "9.x\n",
        "2\n",
        "```\n",
        "…\n",
        "\n",
        "  Az első bejegyzés megadja, hogy Albatrosz Aladin tanár úr biológiát (biologia) fog tanítani a 9.a osztályban heti 2 órában. Ha az osztály betűjele x, akkor évfolyam szintű csoportról vanszó. Példánkban Csincsilla Csilla tanárnő a 9. évfolyam részére heti 2 órás matematika órát tart. Az osztályfőnököket arról ismerhetjük fel, hogy ők tartják az osztályfőnöki (osztalyfonoki) órát.\n",
        "\n",
        "\n",
        "  A megoldás során felhasználhatja, hogy a fájl maximum 1000 bejegyzést (azaz legfeljebb 4000 sort) tartalmaz. Az iskolában legfeljebb 100 tanár és legfeljebb 50 osztály van, továbbá minden osztálynak pontosan egy osztályfőnöke van.\n",
        "\n",
        "\n",
        "Készítsen programot, amely a beosztas.txt állomány adatait felhasználva az alábbi\n",
        "kérdésekre válaszol! A program forráskódját mentse tanfel néven! (A program megírásakor\n",
        "a felhasználó által megadott adatok helyességét, érvényességét nem kell ellenőriznie, és\n",
        "feltételezheti, hogy a rendelkezésre álló adatok a leírtaknak megfelelnek.)\n",
        "\n",
        "A képernyőre írást igénylő részfeladatok esetén – a mintához tartalmában hasonlóan – írja\n",
        "ki a képernyőre a feladat sorszámát (például: 3. feladat:), és utaljon a kiírt tartalomra is!\n",
        "Ha a felhasználótól kér be adatot, jelenítse meg a képernyőn, hogy milyen értéket vár! Mindkét\n",
        "esetben az ékezetmentes kiírás is elfogadott."
      ],
      "metadata": {
        "id": "7NJH-S90EkVL"
      }
    },
    {
      "cell_type": "markdown",
      "source": [
        "##**Példa a szöveges kimenetek kialakításához:**\n",
        "```\n",
        "2. feladat\n",
        "A fájlban 329 bejegyzés van.\n",
        "3. feladat\n",
        "Az iskolában a heti összóraszám: 1016\n",
        "4. feladat\n",
        "Egy tanár neve= Albatrosz Aladin\n",
        "A tanár heti óraszáma: 24\n",
        "6. feladat\n",
        "Osztály= 10.b\n",
        "Tantárgy= kemia\n",
        "Csoportbontásban tanulják.\n",
        "7. feladat\n",
        "Az iskolában 49 tanár tanít.\n",
        "```"
      ],
      "metadata": {
        "id": "h68gGNxKGUJv"
      }
    },
    {
      "cell_type": "markdown",
      "source": [
        "##**1. feladat:** \n",
        "Olvassa be és tárolja el a beosztas.txt állományban talált adatokat, és annakfelhasználásával oldja meg a következő feladatokat!"
      ],
      "metadata": {
        "id": "r1RvemOtFlFj"
      }
    },
    {
      "cell_type": "code",
      "source": [
        "# Első lépésben nyissuk meg a fájlt:\n",
        "file = open(\"beosztas.txt\", 'r') # TextIOWrapper\n",
        "\n",
        "# Olvassuk be az adatokat:\n",
        "data = file.read()\n",
        "file.close()\n",
        "\n",
        "#print(data) ellenőrzésképpen írassuk ki, de aztán kommenteljük ki\n",
        "# Alakítsuk át az adatokat, \n",
        "# (a) tegyük őket listába - sortörésenként bontjuk elemekre\n",
        "# (b) egy olyan listát szeretnénk, ami minden eleme egy olyan allista, mely tartalmazza az egyes elemeket\n",
        "# (c) hozzuk létre ezeket a listákat\n",
        "# Az alábbi formátumot kell kapnunk: [[tanár neve, tantárgy, osztály, osraszám],...]\n",
        "\n",
        "# a.\n",
        "data_list = data.split('\\n')\n",
        "#print(lista)\n",
        "\n",
        "# b.\n",
        "main_list = []\n",
        "sub_list = []\n",
        "\n",
        "# for ciklus segítségével haladjunk végig a lista elemeinek indexein\n",
        "for idx in range(len(data_list)):\n",
        "  sub_list.append(data_list[idx]) # ezzel hozzárendeljük az egyes elemeket\n",
        "\n",
        "  # ha az allista tartalmazza mind a 4 elemet, akkor:\n",
        "  # - adjuk hozzá a főlistához\n",
        "  # - ürítsük ki az allistát\n",
        "\n",
        "  if len(sub_list) == 4:\n",
        "    main_list.append(sub_list)\n",
        "    sub_list = []\n",
        "\n",
        "#print(main_list)\n"
      ],
      "metadata": {
        "id": "cBfH8zRTFXsN"
      },
      "execution_count": null,
      "outputs": []
    },
    {
      "cell_type": "markdown",
      "source": [
        "##**2. feladat:** \n",
        "Hány bejegyzés található az állományban? Az eredményt írassa ki a képernyőre!"
      ],
      "metadata": {
        "id": "0mUBlGBHF1Xm"
      }
    },
    {
      "cell_type": "code",
      "source": [
        "# Tehát azt kell meghatároznunk, hogy hány darab allista van a főlistában\n",
        "\n",
        "n_bejegyzesek = len(main_list)\n",
        "print('2. feladat:')\n",
        "print(f'Az állományban {n_bejegyzesek} bejegyzés található.\\n')"
      ],
      "metadata": {
        "colab": {
          "base_uri": "https://localhost:8080/"
        },
        "id": "YQLCyl7yGlux",
        "outputId": "ff0b96a4-bbc5-4ed3-ec7e-b40d6989fc5e"
      },
      "execution_count": null,
      "outputs": [
        {
          "output_type": "stream",
          "name": "stdout",
          "text": [
            "2. feladat:\n",
            "Az állományban 329 bejegyzés található.\n",
            "\n"
          ]
        }
      ]
    },
    {
      "cell_type": "markdown",
      "source": [
        "##**3. feladat:** \n",
        "A fenntartó számára fontos információ, hogy az iskolában hetente összesen hány tanítási\n",
        "óra van. Határozza meg ezt az adatot és írassa ki a képernyőre!"
      ],
      "metadata": {
        "id": "ryapDyVWF1jZ"
      }
    },
    {
      "cell_type": "code",
      "source": [
        "# Itt az kell meghatároznunk, hogy az allisták utolsó elemeinek mennyi az összege\n",
        "\n",
        "n_orak = 0\n",
        "\n",
        "for idx in range(len(main_list)):\n",
        "  n_orak += int(main_list[idx][-1])\n",
        "\n",
        "print('3. feladat:')\n",
        "print(f'Hetente összesen {n_orak} tanítási óra van.\\n')"
      ],
      "metadata": {
        "colab": {
          "base_uri": "https://localhost:8080/"
        },
        "id": "69gVl8IoGtPy",
        "outputId": "4558a398-5ba0-4440-b921-e58b3c3ad46c"
      },
      "execution_count": null,
      "outputs": [
        {
          "output_type": "stream",
          "name": "stdout",
          "text": [
            "3. feladat:\n",
            "Hetente összesen 1016 tanítási óra van.\n",
            "\n"
          ]
        }
      ]
    },
    {
      "cell_type": "markdown",
      "source": [
        "##**4. feladat:** \n",
        "Kérje be a felhasználótól egy tanár nevét, és írassa ki a képernyőre, hogy hetente hány\n",
        "órában tanít!"
      ],
      "metadata": {
        "id": "msH1uKJYF1sN"
      }
    },
    {
      "cell_type": "code",
      "source": [
        "# (a) az adott név egy input paraméter lesz\n",
        "# (b) végigmegyünk a listán, és ha a tanár neve megegyezik a keresendő névvel, akkor összeadjuk a tanítási órák számait\n",
        "\n",
        "# a.\n",
        "print('4. feladat:')\n",
        "nev = input('Tanár neve: ')\n",
        "\n",
        "# b.\n",
        "nev_orak = 0\n",
        "\n",
        "for idx in range(len(main_list)):\n",
        "  if main_list[idx][0] == nev:\n",
        "    nev_orak += int(main_list[idx][-1])\n",
        "\n",
        "\n",
        "print(f'{nev} {nev_orak} órát tart egy héten.\\n')"
      ],
      "metadata": {
        "colab": {
          "base_uri": "https://localhost:8080/"
        },
        "id": "RtHuN_WlG0KS",
        "outputId": "85f8a076-9f4a-463b-9fea-3d8675cef120"
      },
      "execution_count": null,
      "outputs": [
        {
          "output_type": "stream",
          "name": "stdout",
          "text": [
            "4. feladat:\n",
            "Tanár neve: Vidra Viktor\n",
            "Vidra Viktor 26 órát tart egy héten.\n",
            "\n"
          ]
        }
      ]
    },
    {
      "cell_type": "markdown",
      "source": [
        "##**5. feladat:** \n",
        "Készítse el az of.txt fájlt, amely az osztályfőnökök nevét tartalmazza osztályonként\n",
        "az alábbi formában (az osztályok megjelenítésének sorrendje a mintától eltérhet):\n",
        "```\n",
        "9.a - Albatrosz Aladin\n",
        "9.b - Hangya Hanna\n",
        "9.c - Zerge Zenina\n",
        "```\n",
        "…"
      ],
      "metadata": {
        "id": "bEOLkV1FF1zm"
      }
    },
    {
      "cell_type": "code",
      "source": [
        "# (a) létrehozzuk az 'of.txt' fájlt\n",
        "# (b) ciklusonként végigmegyünk a fólistán, majd\n",
        "#    - ha osztályfőnök, akkor létrehozzuk az adott sort\n",
        "#    - az adott sort hozzáadjuk a fájlhoz\n",
        "\n",
        "# a.\n",
        "of = open(\"of.txt\", \"w\")\n",
        "\n",
        "# b.\n",
        "for idx in range(len(main_list)):\n",
        "  if main_list[idx][1] == 'osztalyfonoki':              # ha az adott óra osztályfőnöki, akkor\n",
        "    sor = f'{main_list[idx][2]} - {main_list[idx][0]}'  # a string: 'osztály - -osztályfőnök'\n",
        "    of.write(sor + '\\n')                                # a fájlba menti az adott szöveget, a '\\n' azért kell, hogy új sort nyisson!!\n",
        "\n",
        "of.close() # bezárjuk a fájlt"
      ],
      "metadata": {
        "id": "BWKzIKweGH9B"
      },
      "execution_count": null,
      "outputs": []
    },
    {
      "cell_type": "markdown",
      "source": [
        "##**6. feladat:** \n",
        "Egyes osztályokban bizonyos tantárgyakat a tanulók csoportbontásban tanulnak: ekkor az\n",
        "adott tantárgyra és osztályra két bejegyzést is tartalmaz a tantárgyfelosztás. Kérje be egy\n",
        "osztály azonosítóját, valamint egy tantárgy nevét, és írassa ki a képernyőre, hogy az adott\n",
        "osztály a megadott tantárgyat csoportbontásban vagy osztályszinten tanulja-e!\n",
        "(Feltételezheti, hogy a megadott osztály tanulja a megadott tantárgyat.)"
      ],
      "metadata": {
        "id": "07fXDuE7GKWS"
      }
    },
    {
      "cell_type": "code",
      "source": [
        "# A feladat megoldásához:\n",
        "#  (a) bekérjük az osztályt és a tantárgyat\n",
        "#  (b) megnézzük, hogy a főlistában hány olyan allista szerepel, mely tartalmazza ezt az osztály és ezt a tantárgyat\n",
        "#     - ha egyszer, akkor nincs csoportbontás\n",
        "#     - ha többször, akkor csoportbontásban tanulják\n",
        "\n",
        "# a.\n",
        "print('6. feladat')\n",
        "osztaly = input('osztály: ')  # bekérjük az osztályt\n",
        "targy = input('tantárgy: ')   # bekérjük a tantárgyat\n",
        "\n",
        "\n",
        "# b. \n",
        "i = 0   # kiindulási állapot --> ez a változó értéke fogja meghatározni, hogy hogyan tanulják a tárgyat\n",
        "for idx in range(len(main_list)):\n",
        "  if main_list[idx][2] == osztaly and main_list[idx][1] == targy: # ha az adott osztály megegyezik a keresettel ÉS az adott tantárgy megegyezik a keresettel, akkor\n",
        "    i += 1                                                        # növeljük az i értékét\n",
        "\n",
        "if i == 2:\n",
        "  print(f'A(z) {osztaly} osztály a {targy} tantárgyat csoportbontásban tanulja.')\n",
        "elif i == 1:\n",
        "  print(f'A(z) {osztaly} osztály a {targy} tantárgyat NEM csoportbontásban tanulja.')\n",
        "else:\n",
        "  print('Nem létezik ilyen osztály és/vagy tantárgy!')"
      ],
      "metadata": {
        "colab": {
          "base_uri": "https://localhost:8080/"
        },
        "id": "8ieUNFLxG5oj",
        "outputId": "84db4b5d-5961-491a-b72f-5ceb11555443"
      },
      "execution_count": null,
      "outputs": [
        {
          "output_type": "stream",
          "name": "stdout",
          "text": [
            "6. feladat\n",
            "osztály: 9.a\n",
            "tantárgy: biologia\n",
            "A(z) 9.a osztály a biologia tantárgyat NEM csoportbontásban tanulja.\n"
          ]
        }
      ]
    },
    {
      "cell_type": "markdown",
      "source": [
        "##**7. feladat:** \n",
        "A fenntartó számára az is fontos információ, hogy hány tanár dolgozik az iskolában. Írassa\n",
        "ki ezt az adatot a képernyőre!"
      ],
      "metadata": {
        "id": "TOMB4eO3GKci"
      }
    },
    {
      "cell_type": "code",
      "source": [
        "tanarok = []                        # ebben a listában gyűjtük a tanárokat\n",
        "\n",
        "for i in range(len(main_list)):     # végighaladunk a lista elemein\n",
        "  tanarok.append(main_list[i][0])   # az adott tanárt hozzárendeljük a listához\n",
        "\n",
        "## a feladatnak két megoldása lehet.\n",
        "# az első:\n",
        "\n",
        "egyedi = []                       # létrehozzuk az üres egyedi listát\n",
        "\n",
        "for i in range(len(tanarok)):     # végimegyünk a tanárokon\n",
        "  if tanarok[i] not in egyedi:    # ha az adott tanár nem eleme az egyedi listának, akkor\n",
        "    egyedi.append(tanarok[i])     # hozzárendeljük\n",
        "\n",
        "print(f\"Az iskolában {len(egyedi)} tanár tanít.\")\n",
        "\n",
        "## második lehetséges megoldás:\n",
        "\n",
        "print(f\"Az iskolában {len(set(tanarok))} tanár tanít.\")   # a tanárok listáját \"set\"-té alakítjuk, így csak az egyedi elemek maradnak benne, majd ennek a hosszát íratjuk ki."
      ],
      "metadata": {
        "colab": {
          "base_uri": "https://localhost:8080/"
        },
        "id": "fo0zE40oGR5T",
        "outputId": "86225d89-8a7b-4ce3-ac57-33e07e8f24ea"
      },
      "execution_count": null,
      "outputs": [
        {
          "output_type": "stream",
          "name": "stdout",
          "text": [
            "Az iskolában 49 tanár tanít.\n",
            "Az iskolában 49 tanár tanít.\n"
          ]
        }
      ]
    }
  ]
}