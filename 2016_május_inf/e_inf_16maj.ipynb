{
  "nbformat": 4,
  "nbformat_minor": 0,
  "metadata": {
    "colab": {
      "name": "e_inf_16maj.ipynb",
      "provenance": [],
      "collapsed_sections": [],
      "authorship_tag": "ABX9TyNPi4v2fZavSdhVWsgC2I5B",
      "include_colab_link": true
    },
    "kernelspec": {
      "name": "python3",
      "display_name": "Python 3"
    },
    "language_info": {
      "name": "python"
    }
  },
  "cells": [
    {
      "cell_type": "markdown",
      "metadata": {
        "id": "view-in-github",
        "colab_type": "text"
      },
      "source": [
        "<a href=\"https://colab.research.google.com/github/OtterSolution/InfoErettsegiPython/blob/main/2016_m%C3%A1jus_inf/e_inf_16maj.ipynb\" target=\"_parent\"><img src=\"https://colab.research.google.com/assets/colab-badge.svg\" alt=\"Open In Colab\"/></a>"
      ]
    },
    {
      "cell_type": "markdown",
      "source": [
        "Egy apróságokat árusító boltban minden árucikk darabja 500 Ft. Ha egy vásárlás során\n",
        "valaki egy adott árucikkből több darabot is vesz, a második ára már csak 450 Ft, a harmadik\n",
        "pedig 400 Ft, de a negyedik és további darabok is ennyibe kerülnek, tehát az ár a harmadik\n",
        "ugyanazon cikk vásárlása után már nem csökken tovább.\n",
        "\n",
        "A pénztárhoz menők kosarában legalább 1 és legfeljebb 20 darab árucikk lehet. A kosarak\n",
        "tartalmát a penztar.txt fájl írja le, amelyben soronként egy-egy árucikk neve vagy az F\n",
        "karakter szerepel. A fájlban legfeljebb 1000 sor lehet. Az F karakter azt jelzi, hogy az adott\n",
        "vásárlónak nincs már újabb árucikk a kosarában, fizetés következik. Az árucikkek neve ékezet\n",
        "nélküli, több szóból is állhat, hossza legfeljebb 30 karakter.\n",
        "\n",
        "Példa a penztar.txt fájl első néhány sorára:\n",
        "```\n",
        "toll\n",
        "F\n",
        "colostok\n",
        "HB ceruza\n",
        "HB ceruza\n",
        "colostok\n",
        "toll\n",
        "szatyor\n",
        "csavarkulcs\n",
        "doboz\n",
        "F\n",
        "```\n",
        "\n",
        "A példa alapján az első vásárló összesen 1 tollat vásárolt, ezért összesen 500 Ft-ot kell\n",
        "fizetnie. A második vásárlás során hatféle árucikket vásároltak – a HB ceruzából és a\n",
        "colostokból többet is –, összesen 3900 Ft értékben.\n",
        "\n",
        "Készítsen programot, amely a *penztar.txt* állomány adatait felhasználva az alábbi\n",
        "kérdésekre válaszol! A program forráskódját mentse *otszaz* néven! (A program megírásakor\n",
        "a felhasználó által megadott adatok helyességét, érvényességét nem kell ellenőriznie, és\n",
        "feltételezheti, hogy a rendelkezésre álló adatok a leírtaknak megfelelnek.)\n",
        "A képernyőre írást igénylő részfeladatok eredményének megjelenítése előtt írja\n",
        "a képernyőre a feladat sorszámát (például: `3. feladat:`)! Ha a felhasználótól kér be adatot,\n",
        "jelenítse meg a képernyőn, hogy milyen értéket vár! Az ékezetmentes kiírás is elfogadott."
      ],
      "metadata": {
        "id": "7NJH-S90EkVL"
      }
    },
    {
      "cell_type": "markdown",
      "source": [
        "##**Példa a szöveges kimenetek kialakításához:**\n",
        "```\n",
        "2. feladat\n",
        "A fizetések száma: 141\n",
        "3. feladat\n",
        "Az első vásárló 1 darab árucikket vásárolt.\n",
        "4. feladat\n",
        "Adja meg egy vásárlás sorszámát! 2\n",
        "Adja meg egy árucikk nevét! kefe\n",
        "Adja meg a vásárolt darabszámot! 2\n",
        "5. feladat\n",
        "Az első vásárlás sorszáma: 5\n",
        "Az utolsó vásárlás sorszáma: 139\n",
        "32 vásárlás során vettek belőle.\n",
        "6. feladat\n",
        "2 darab vételekor fizetendő: 950\n",
        "7. feladat\n",
        "1 toll\n",
        "1 szatyor\n",
        "1 doboz\n",
        "1 csavarkulcs\n",
        "2 colostok\n",
        "2 HB ceruza\n",
        "```"
      ],
      "metadata": {
        "id": "h68gGNxKGUJv"
      }
    },
    {
      "cell_type": "markdown",
      "source": [
        "#**1. feladat**\n",
        "Olvassa be és tárolja el a penztar.txt fájl tartalmát!"
      ],
      "metadata": {
        "id": "RppBN8Fd8htc"
      }
    },
    {
      "cell_type": "code",
      "source": [
        "f = open(\"penztar.txt\") # Nyissuk meg a fájlt,\n",
        "adat = f.read()         # olvassuk be és tároljuk,\n",
        "f.close()               # majd zárjuk be\n",
        "\n",
        "adat_lista = adat.split('\\n') # Csináljunk listát a sorokból\n",
        "# print(adat_lista[-3:]) # Nézzük meg a lista végét, majd kommenteljük ki\n",
        "\n",
        "adat_lista.pop() # Töröljük az utolsó elemet\n",
        "\n",
        "# Rendezzük listába a sorok elemeit\n",
        "\n",
        "tablazat = []\n",
        "sor = []\n",
        "\n",
        "for i in range(len(adat_lista)):  # Menjünk végig az adatlista elemein\n",
        "  if adat_lista[i] != 'F':          # Ha az adott elem nem F, akkor\n",
        "    sor.append(adat_lista[i])         # Rendeljük hozzá a sorhoz\n",
        "  else:                             # Különben (tehát, ha az adott elem F)\n",
        "    tablazat.append(sor)              # Rendeljük a sort a táblázathoz\n",
        "    sor = []                          # ürítsük ki a sort\n",
        "\n",
        "# print(tablazat[:3]) # ellenőrzés"
      ],
      "metadata": {
        "id": "cBfH8zRTFXsN"
      },
      "execution_count": null,
      "outputs": []
    },
    {
      "cell_type": "markdown",
      "source": [
        "##**2. feladat:** \n",
        "Határozza meg, hogy hányszor fizettek a pénztárnál!\n",
        "\n",
        "```\n",
        "2. feladat\n",
        "A fizetések száma: 141 \n",
        "```\n"
      ],
      "metadata": {
        "id": "0mUBlGBHF1Xm"
      }
    },
    {
      "cell_type": "code",
      "source": [
        "# Írjuk ki a feladat sorszámát\n",
        "print(\"2. feladat\")\n",
        "\n",
        "# A kifizetések száma a táblázat sorainak száma, azaz hossza\n",
        "hossz = len(tablazat)\n",
        "\n",
        "#Írjuk ki az eredményt\n",
        "print(f\"A fizetések száma: {hossz}\")"
      ],
      "metadata": {
        "id": "YQLCyl7yGlux"
      },
      "execution_count": null,
      "outputs": []
    },
    {
      "cell_type": "markdown",
      "source": [
        "##**3. feladat:** \n",
        "Írja a képernyőre, hogy az első vásárlónak hány darab árucikk volt a kosarában!\n",
        "\n",
        "```\n",
        "3. feladat \n",
        "Az első vásárló 1 darab árucikket vásárolt. \n",
        "```"
      ],
      "metadata": {
        "id": "ryapDyVWF1jZ"
      }
    },
    {
      "cell_type": "code",
      "source": [
        "# Írjuk ki a feladat sorszámát\n",
        "print(\"3. feladat\")\n",
        "\n",
        "# Nézzük meg az elős vásárló kosarát\n",
        "elso = tablazat[0]\n",
        "\n",
        "# Nézzük meg hány elem van a kosárban, és írjuk ki\n",
        "print(f\"Az első vásárló {len(elso)} darab árucikket vásárolt.\")"
      ],
      "metadata": {
        "id": "69gVl8IoGtPy"
      },
      "execution_count": null,
      "outputs": []
    },
    {
      "cell_type": "markdown",
      "source": [
        "##**4. feladat:** \n",
        "Kérje be a felhasználótól egy vásárlás sorszámát, egy árucikk nevét és egy darabszámot!\n",
        "A következő három feladat megoldásánál ezeket használja fel!\n",
        "\n",
        "*Feltételezheti, hogy a program futtasásakor csak a bemeneti állományban rögzített\n",
        "adatoknak megfelelő vásárlási sorszámot és árucikknevet ad meg a felhasználó.*\n",
        "\n",
        "```\n",
        "4. feladat \n",
        "Adja meg egy vásárlás sorszámát! 2\n",
        "Adja meg egy árucikk nevét! kefe\n",
        "Adja meg a vásárolt darabszámot! 2 \n",
        "```"
      ],
      "metadata": {
        "id": "msH1uKJYF1sN"
      }
    },
    {
      "cell_type": "code",
      "source": [
        "# Írjuk ki a feladat sorszámát\n",
        "print(\"4. feladat\")\n",
        "\n",
        "# Kérjük be az adatokat\n",
        "sorszam = int(input(\"Adja meg egy vásárlás sorszámát \"))    # Numerikus érték --> int\n",
        "arucikk = input(\"Adja meg egy árucikk nevét! \")\n",
        "darabszam = int(input(\"Adja meg a vásárolt darabszámot! \")) # Numerikus érték --> int"
      ],
      "metadata": {
        "id": "RtHuN_WlG0KS"
      },
      "execution_count": null,
      "outputs": []
    },
    {
      "cell_type": "markdown",
      "source": [
        "##**5. feladat:** \n",
        "Határozza meg, hogy a bekért árucikkből\n",
        "\n",
        "* melyik vásárláskor vettek először, és melyiknél utoljára!\n",
        "* összesen hány alkalommal vásároltak!\n",
        "\n",
        "```\n",
        "5. feladat \n",
        "Az első vásárlás sorszáma: 5\n",
        "Az utolsó vásárlás sorszáma: 139\n",
        "32 vásárlás során vettek belőle.\n",
        "```\n"
      ],
      "metadata": {
        "id": "bEOLkV1FF1zm"
      }
    },
    {
      "cell_type": "code",
      "source": [
        "# Írjuk ki a feladat sorszámát\n",
        "print(\"5. feladat\")\n",
        "\n",
        "vasarlasok = []                   # Ebbe gyűjtjük a vásárlásokat\n",
        "\n",
        "for i in range(len(tablazat)):    # Menjünk végig a táblázat sorain\n",
        "  sor = tablazat[i]                 # Mentsük ki az adott sort\n",
        "  sorsz = i + 1                     # A sorszámhoz adjunk egyet --> Python 0-tól kezd\n",
        "  if arucikk in sor:                # Ha az adott árucikk megtalálható az aktuális sorban, akkor\n",
        "    vasarlasok.append(sorsz)          # A vásárlások listába vegyük fel a vásárlás sorszámát\n",
        "\n",
        "elso = vasarlasok[0]        # Az első vásárlás a lista 0. eleme\n",
        "utolso = vasarlasok[-1]     # Az utolsó vásárlás a lista utolsó eleme\n",
        "osszes = len(vasarlasok)    # Az összes vásárlás pedig a lista hossza\n",
        "\n",
        "# Írjuk ki az eredményeket a mintának megfelelően\n",
        "print(f\"Az első vásárlás sorszáma: {elso}\")\n",
        "print(f\"Az utolsó vásárlás sorszáma: {utolso}\")\n",
        "print(f\"{osszes} vásárlás során vettek belőle.\")"
      ],
      "metadata": {
        "id": "BWKzIKweGH9B"
      },
      "execution_count": null,
      "outputs": []
    },
    {
      "cell_type": "markdown",
      "source": [
        "##**6. feladat:** \n",
        "Határozza meg, hogy a bekért darabszámot vásárolva egy termékből mennyi a fizetendő\n",
        "összeg! A feladat megoldásához készítsen függvényt ertek néven, amely a darabszámhoz\n",
        "a fizetendő összeget rendeli!\n",
        "\n",
        "```\n",
        "6. feladat\n",
        "2 darab vételekor fizetendő: 950\n",
        " \n",
        "```\n"
      ],
      "metadata": {
        "id": "A4ONVL5Eh_Ma"
      }
    },
    {
      "cell_type": "code",
      "source": [
        "# Írjuk ki a feladat sorszámát\n",
        "print(\"6. feladat\")\n",
        "\n",
        "# Hozzuk létre a függvényt\n",
        "def ertek(darab):               # A függvény argumentuma a \"darab\"\n",
        "  if darab < 1:                  # Ha a darab kisebb mint egy, akkor\n",
        "    ar = 0                        # az ár 0\n",
        "  elif darab == 1:                # Ha a darab  egy, akkor\n",
        "    ar = 500                        # az ára 500\n",
        "  elif darab == 2:                # Ha a darab kettő, akkor\n",
        "    ar = 950                        # Az ára 500+450=950\n",
        "  else:                           # Különben,  \n",
        "    ar = (darab - 2) * 400 + 950    # Az ára a darabszám-2 szorozva 400-zal, plusz 950\n",
        "\n",
        "  return ar   # A függvény az árat adja vissza\n",
        "\n",
        "# Írjuk ki az eredményt\n",
        "print(f\"{darabszam} darab vételekor fizetendő: {ertek(darabszam)}\")"
      ],
      "metadata": {
        "id": "Q0BaLYyLh_Ma"
      },
      "execution_count": null,
      "outputs": []
    },
    {
      "cell_type": "markdown",
      "source": [
        "##**7. feladat:** \n",
        "Határozza meg, hogy a bekért sorszámú vásárláskor mely árucikkekből és milyen\n",
        "mennyiségben vásároltak! Az árucikkek nevét tetszőleges sorrendben megjelenítheti. \n",
        "\n",
        "```\n",
        "7. feladat\n",
        "1 toll\n",
        "1 szatyor\n",
        "1 doboz\n",
        "1 csavarkulcs\n",
        "2 colostok\n",
        "2 HB ceruza\n",
        "```\n"
      ],
      "metadata": {
        "id": "LbNFch59h_zt"
      }
    },
    {
      "cell_type": "code",
      "source": [
        "# Írjuk ki a feladat sorszámát\n",
        "print(f\"7. feladat\")\n",
        "\n",
        "# Keressük ki a vásárlást:\n",
        "vasarlas = tablazat[sorszam-1] # Egyet le kell vonnunk a Python indexelés miatt\n",
        "elemek = list(set(vasarlas))   # Hozzuk létre az elemek egyedi listáját\n",
        "\n",
        "for item in elemek:           # Menjünk végig az elemeken\n",
        "  db = vasarlas.count(item)     # A darabszám nem lesz más, minthogy hányszor fordul elő az edott elem a listában\n",
        "  print(f\"{db} {item}\")         # Ezeket írjuk ki"
      ],
      "metadata": {
        "id": "iF_f7czvh_zu"
      },
      "execution_count": null,
      "outputs": []
    },
    {
      "cell_type": "markdown",
      "source": [
        "##**8. feladat:** \n",
        "Készítse el az osszeg.txt fájlt, amelybe soronként az egy-egy vásárlás alkalmával\n",
        "fizetendő összeg kerüljön a kimeneti mintának megfelelően!\n",
        "\n",
        "**Minta a osszeg.txt fájl kialakításához:** \n",
        "```\n",
        "1: 500\n",
        "2: 3900\n",
        "3: 2300\n",
        "4: 1000\n",
        "5: 2500\n",
        "6: 2900\n",
        "7: 950\n",
        "… \n",
        "```\n"
      ],
      "metadata": {
        "id": "8qGhjnaZiAWK"
      }
    },
    {
      "cell_type": "code",
      "source": [
        "f = open(\"osszeg.txt\", \"w\")      # Hozzuk létre írásra a fájlt\n",
        "\n",
        "for i in range(len(tablazat)):   # Menjünk végig a táblázat sorain\n",
        "  vasarlas = tablazat[i]           # A táblázat adoss sora lesz az adott vásárlás\n",
        "  elemek = list(set(vasarlas))     # Vegyük ezekből az egyedi elemeket\n",
        "  osszeg = 0                       # Az asott összeget minden vásárlásnál 0-ról indítjuk\n",
        "  \n",
        "  for elem in elemek:             # Menjünk végig az egyedi elemeken\n",
        "    db = vasarlas.count(elem)       # Számoljuk meg, hogy az adott elem hányszor szerepel a kosárban\n",
        "    osszeg += ertek(db)             # Az összeget növeljük az adott elemért fizetendő értékkel\n",
        "\n",
        "  f.write(f\"{i+1}: {osszeg}\\n\")   # Írjuk a fájlba az adatokat\n",
        "\n",
        "f.close()                        # Zárjuk be a fájlt"
      ],
      "metadata": {
        "id": "oMY-plSAiAWL"
      },
      "execution_count": null,
      "outputs": []
    }
  ]
}