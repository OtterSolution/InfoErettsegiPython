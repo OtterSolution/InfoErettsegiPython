{
  "nbformat": 4,
  "nbformat_minor": 0,
  "metadata": {
    "colab": {
      "name": "e_infma_18maj.ipynb",
      "provenance": [],
      "authorship_tag": "ABX9TyOgaQ3cGSSJbjU7LrmnWBLr",
      "include_colab_link": true
    },
    "kernelspec": {
      "name": "python3",
      "display_name": "Python 3"
    },
    "language_info": {
      "name": "python"
    }
  },
  "cells": [
    {
      "cell_type": "markdown",
      "metadata": {
        "id": "view-in-github",
        "colab_type": "text"
      },
      "source": [
        "<a href=\"https://colab.research.google.com/github/OtterSolution/InfoErettsegiPython/blob/main/2018_m%C3%A1jus_infma/e_infma_18maj.ipynb\" target=\"_parent\"><img src=\"https://colab.research.google.com/assets/colab-badge.svg\" alt=\"Open In Colab\"/></a>"
      ]
    },
    {
      "cell_type": "markdown",
      "source": [
        "# 4. Fogadóóra\n",
        "Egy iskolában a tanárok fogadóóráira egy webes felületen foglalhatnak időpontot a szülők. Ebben a feladatban az egyik fogadónap adataival kell dolgoznia. A fogadónap 16:00-tól 18:00-ig tart, a lehetséges lefoglalható időpontok: 16:00, 16:10, 16:20 … 17:50. Egy-egy megbeszélés 10 percig tart. Időpontütközést a foglalást felügyelő program nem enged meg.\n",
        "\n",
        "A *fogado.txt* fájl a tanárok foglaltsági adatait tartalmazza. Egy sorban a következő adatok\n",
        "találhatók szóközzel elválasztva: a tanár vezetékneve; utóneve; a lefoglalt időpont; a foglalás\n",
        "rögzítésének dátuma és időpontja. A tanár neve pontosan egy vezetéknévből és pontosan egy\n",
        "utónévből áll. Az óra, perc, hónap és nap adatok mindegyikét pontosan két számjeggyel tárolva\n",
        "találhatja meg a fájlban. A fájlban biztosan 500-nál kevesebb sor fordul elő, és az adatok\n",
        "sorrendje véletlenszerű.\n",
        "Például:\n",
        "```\n",
        "…\n",
        "Nagy Marcell 16:30 2017.10.29-20:32\n",
        "Fodor Zsuzsanna 17:10 2017.10.28-23:12\n",
        "Lakatos Levente 16:00 2017.10.30-08:24\n",
        "…\n",
        "```\n",
        "A példa első sora szerint Nagy Marcell tanár úrnál a 16:30-as időpontot lefoglalták,\n",
        "mégpedig 2017. 10. 29-én 20:32-kor.\n",
        "\n",
        "Készítsen programot, amely a fogado.txt állomány adatait felhasználva az alábbi\n",
        "kérdésekre válaszol! A program forráskódját mentse fogado néven! (A program megírásakor\n",
        "a felhasználó által megadott adatok helyességét, érvényességét nem kell ellenőriznie,\n",
        "feltételezheti, hogy a rendelkezésre álló adatok a leírtaknak megfelelnek.)\n",
        "\n",
        "A képernyőre írást igénylő részfeladatok eredményének megjelenítése előtt írja a képernyőre\n",
        "a feladat sorszámát (például 2. feladat:)! Ha a felhasználótól kér be adatot, jelenítse meg\n",
        "a képernyőn, hogy milyen értéket vár! Az ékezetmentes kiírás is elfogadott."
      ],
      "metadata": {
        "id": "7NJH-S90EkVL"
      }
    },
    {
      "cell_type": "markdown",
      "source": [
        "##**Példa a szöveges kimenetek kialakításához:**\n",
        "```\n",
        "2. feladat\n",
        "Foglalások száma: 161\n",
        "3. feladat\n",
        "Adjon meg egy nevet: Nagy Ferenc\n",
        "Nagy Ferenc néven 6 időpontfoglalás van.\n",
        "4. feladat\n",
        "Adjon meg egy érvényes időpontot (pl. 17:10): 17:40\n",
        "Beke Bianka\n",
        "Csorba Ede\n",
        "Fodor Zsuzsanna\n",
        "Hantos Hedvig\n",
        "Keller Katalin\n",
        "Magos Magdolna\n",
        "Nagy Marcell\n",
        "Olasz Ferenc\n",
        "Papp Lili\n",
        "Szalai Levente\n",
        "Veres Gergely\n",
        "5. feladat\n",
        "Tanár neve: Csorba Ede\n",
        "Foglalt időpont: 16:30\n",
        "Foglalás ideje: 2017.10.28-18:48\n",
        "6. feladat\n",
        "16:00\n",
        "16:10\n",
        "17:00\n",
        "17:40\n",
        "17:50\n",
        "Barna Eszter legkorábban távozhat: 17:40\n",
        "```"
      ],
      "metadata": {
        "id": "h68gGNxKGUJv"
      }
    },
    {
      "cell_type": "markdown",
      "source": [
        "##**1. feladat:** \n",
        "Olvassa be és tárolja el a ***fogado.txt*** fájl tartalmát!"
      ],
      "metadata": {
        "id": "r1RvemOtFlFj"
      }
    },
    {
      "cell_type": "code",
      "source": [
        "f = open(\"fogado.txt\") # mivel beolvassuk, az \"r\" mód elhagyható\n",
        "adat = f.read()        # az adat változóba elmentjük a szöveget\n",
        "f.close()              # bezárjuk a fájlt\n",
        "\n",
        "# Szedjük listába az elemeket\n",
        "adat_lista = adat.split(\"\\n\") # megkapjuk a sorok listáját\n",
        "#print(adat_lista[-3:])        # nézzük meg az utolsó 3 elemet\n",
        "adat_lista.pop()              # Mivel az utolsó elem üres, ezért távolítsuk el a listából\n",
        "\n",
        "# A probléma, hogy a nevek is szóközzel vannak ellátva, így a további tagolás így alakul:\n",
        "#  - 1. oszlop: vezetéknév\n",
        "#  - 2. oszlop: keresztnév\n",
        "#  - 3. oszlop: lefoglalt időpont\n",
        "#  - 4. foglalás időpontja\n",
        "\n",
        "# Bontsuk szét a sorokat is az oszlopok szerint:\n",
        "\n",
        "tablazat = []  # Ez tartalmazza majd az adatokat \"táblázatosan\"\n",
        "\n",
        "for i in range(len(adat_lista)):  # végigmegyünk a sorok indexein\n",
        "  sor = adat_lista[i].split()     # az adott sort elemekre bontjuk szóközök mentén\n",
        "  tablazat.append(sor)            # a kapott sor listáját hozzárendeljük a \"táblázathoz\"\n",
        "\n",
        "#print(tablazat[:3])"
      ],
      "metadata": {
        "id": "cBfH8zRTFXsN"
      },
      "execution_count": null,
      "outputs": []
    },
    {
      "cell_type": "markdown",
      "source": [
        "##**2. feladat:** \n",
        "Írja a képernyőre, hogy hány foglalás adatait tartalmazza a fájl!\n",
        "\n",
        "*Minta:*\n",
        "```\n",
        "2. feladat\n",
        "Foglalások száma: 161\n",
        "```\n"
      ],
      "metadata": {
        "id": "0mUBlGBHF1Xm"
      }
    },
    {
      "cell_type": "code",
      "source": [
        "print(\"2. feladat\")\n",
        "n_foglalas = len(tablazat)  # a táblázat méretét meghatározzuk\n",
        "print(f\"Foglalások száma: {n_foglalas}\\n\")"
      ],
      "metadata": {
        "id": "YQLCyl7yGlux"
      },
      "execution_count": null,
      "outputs": []
    },
    {
      "cell_type": "markdown",
      "source": [
        "##**3. feladat:** \n",
        "Kérje be a felhasználótól egy tanár nevét, majd jelenítse meg a mintának megfelelően\n",
        "a képernyőn, hogy a megadott tanárnak hány időpontfoglalása van! Ha a megadott tanárhoz\n",
        "– ilyen például Farkas Attila – még nem történt foglalás, akkor \n",
        "```\n",
        "„A megadott néven nincs időpontfoglalás.” \n",
        "``` \n",
        "üzenetet jelenítse meg!\n",
        "\n",
        "*Minta:*\n",
        "```\n",
        "3. feladat\n",
        "Adjon meg egy nevet: Nagy Ferenc\n",
        "Nagy Ferenc néven 6 időpontfoglalás van.\n",
        "```"
      ],
      "metadata": {
        "id": "ryapDyVWF1jZ"
      }
    },
    {
      "cell_type": "code",
      "source": [
        "print(\"3. feladat\")\n",
        "\n",
        "tanar = input(\"Adjon meg egy nevet: \")                              # bekérjük a tanár nevét\n",
        "nev = tanar.split()                                                 # a bekért nevet is szét kell bontanunk vezetés és kersztnévre\n",
        "\n",
        "foglalas = 0                                                        # ebben a változóban gyűjtjük a foglalások számát\n",
        "\n",
        "for i in range(len(tablazat)):                                      # Végigmegyünk a táblázat sorain\n",
        "  if tablazat[i][0] == nev[0] and tablazat[i][1] == nev[1]:         # ha az adott vezetéknév megegyezik a keresettel ÉS az adott keresztnév megegyezik a keresettel, \n",
        "    foglalas += 1                                                   # akkor növeljük a foglalas értékét eggyel\n",
        "\n",
        "if foglalas == 0:                                                   # Ha valakinél nincs foglalás, azaz a foglalas valtozo 0, \n",
        "  print(\"A megadott néven nincs időpontfoglalás.\")                  # akkor kiírja, hogy nincs foglalás, \n",
        "else:                                                               # különben \n",
        "  print(f\"{nev[0]} {nev[1]} néven {foglalas} időpontfoglalás van.\") # a foglalások számát"
      ],
      "metadata": {
        "id": "69gVl8IoGtPy"
      },
      "execution_count": null,
      "outputs": []
    },
    {
      "cell_type": "markdown",
      "source": [
        "##**4. feladat:** \n",
        "Kérjen be a felhasználótól egy érvényes időpontot a forrásfájlban található formátumban\n",
        "(pl. 17:40)! A program írja a képernyőre a megadott időpontban foglalt tanárok névsorát!\n",
        "Egy sorban egy név szerepeljen! A névsor ábécé szerint rendezett legyen! A rendezett\n",
        "névsort írja ki fájlba is, és ott is soronként egy név szerepeljen! Az időpontnak megfelelő\n",
        "fájlnevet használjon, például 17:40 esetén a ***1740.txt*** fájlban tárolja el az adatokat!\n",
        "Ügyeljen arra, hogy a fájlnév a kettőspont karaktert ne tartalmazza! (Amennyiben ezen\n",
        "a néven nem tudja a fájlt létrehozni, használja az ***adatok.txt*** állománynevet!)\n",
        "\n",
        "*Minta:*\n",
        "```\n",
        "Adjon meg egy érvényes időpontot (pl. 17:10): 17:40\n",
        "Beke Bianka\n",
        "Csorba Ede\n",
        "Fodor Zsuzsanna\n",
        "Hantos Hedvig\n",
        "Keller Katalin\n",
        "Magos Magdolna\n",
        "Nagy Marcell\n",
        "Olasz Ferenc\n",
        "Papp Lili\n",
        "Szalai Levente\n",
        "Veres Gergely\n",
        "```"
      ],
      "metadata": {
        "id": "msH1uKJYF1sN"
      }
    },
    {
      "cell_type": "code",
      "source": [
        "print(\"4. feladat\")\n",
        "\n",
        "ido = input(\"Adjon meg egy érvényes időpontot (pl. 17:10): \") # Kérjük be az időpontot\n",
        "tanarok = []                                                  # Ebbe a listába gyűjtjük az adott időpontban foglalt tanárokat\n",
        "\n",
        "for i in range(len(tablazat)):                    # menjünk végig a táblázat sorain\n",
        "  if tablazat[i][2] == ido:                       # ha az aktuális időpont megegyezik a keresett időponttal,\n",
        "    nev = tablazat[i][0] + \" \" + tablazat[i][1]   # akkor a vezetéknevévből és a keresztnévből csináljunk egy teljes nevet\n",
        "    tanarok.append(nev)                           # ezt a teljes nevet rendeljük hozzá a tanárok listájához\n",
        "\n",
        "# Tegyünk névsorrendbe a tanárokat:\n",
        "tanarok.sort()\n",
        "\n",
        "# Írassuk ki az eredményeket:\n",
        "for item in tanarok:\n",
        "  print(item)"
      ],
      "metadata": {
        "id": "RtHuN_WlG0KS"
      },
      "execution_count": null,
      "outputs": []
    },
    {
      "cell_type": "markdown",
      "source": [
        "##**5. feladat:** \n",
        "Határozza meg, majd írja ki a képernyőre a legkorábban lefoglalt időpont minden adatát!\n",
        "Az adatok megjelenítésénél pontosan kövesse a feladat végén szereplő mintát!"
      ],
      "metadata": {
        "id": "bEOLkV1FF1zm"
      }
    },
    {
      "cell_type": "code",
      "source": [
        "print(\"5. feladat\")\n",
        "\n",
        "regido = []                          # ebben a listában gyűjtjük a regisztráció időpontjait\n",
        "\n",
        "for i in range(len(tablazat)):       # végigmegyünk a lista sorain\n",
        "  regido.append(tablazat[i][-1])     # a listához rendeljük az adott sor utolsó elemét, azaz a regisztráció dátumát\n",
        "\n",
        "#Határozzuk meg a legkorábbi dátum indexét:\n",
        "idx = regido.index(min(regido))  \n",
        "\n",
        "print(f\"Tanár neve: {tablazat[idx][0]} {tablazat[idx][1]}\")  # A mintának megfelelően a tanár vezetés és keresztneve!\n",
        "print(f\"Foglalt időpont: {tablazat[idx][2]}\")                # A foglalt időpont\n",
        "print(f\"Foglalás ideje: {tablazat[idx][3]}\")                 # A foglalás ideje"
      ],
      "metadata": {
        "id": "BWKzIKweGH9B"
      },
      "execution_count": null,
      "outputs": []
    },
    {
      "cell_type": "markdown",
      "source": [
        "##**6. feladat:** \n",
        "Írja ki a képernyőre ***„Barna Eszter”*** tanárnő szabad időpontjait! Tudjuk, hogy a tanárnőnek\n",
        "legalább egy foglalt és több szabad időpontja is van. A tanárnő a legutolsó szülő fogadása\n",
        "után távozhat az iskolából. Mikor távozhat legkorábban? Az időpontot azonosíthatóan írja\n",
        "ki a képernyőre!\n",
        "\n",
        "*Minta:*\n",
        "```\n",
        "6. feladat\n",
        "16:00\n",
        "16:10\n",
        "17:00\n",
        "17:40\n",
        "17:50\n",
        "Barna Eszter legkorábban távozhat: 17:40\n",
        "```"
      ],
      "metadata": {
        "id": "07fXDuE7GKWS"
      }
    },
    {
      "cell_type": "code",
      "source": [
        "print(\"6. feladat\")\n",
        "# Csináljunk egy listát, ami tartalmazza az összes EGYEDI időpontot!\n",
        "idopontok = []\n",
        "\n",
        "for i in range(len(tablazat)):          # menjünk végig a táblázat sorain\n",
        "  if tablazat[i][2] not in idopontok:   # ha az aktuális időpont nincs a listában, akkor\n",
        "    idopontok.append(tablazat[i][2])    # rendeljük hozzá\n",
        "\n",
        "idopontok.sort()                        # rendezzük időrendbe az időpontokat\n",
        "\n",
        "# Menjünk végig újra a táblázat sorain. Ha a név Barna Eszter és a hozzá tartozó időpontokat távolítsuk el a listából\n",
        "\n",
        "barna_szabad = idopontok[:]                                        # csináljunk egy másolatot az időpontok list\n",
        "\n",
        "for i in range(len(tablazat)):                                     # menjünk végig a táblázat sorain\n",
        "  if tablazat[i][0] == \"Barna\" and tablazat[i][1] == \"Eszter\":     # ha az adott vezetéknév Barna ÉS az adott keresztnév Eszter, akkor\n",
        "    barna_szabad.remove(tablazat[i][2])                            # a barna_szabad listából távolítsuk el az aktuális időpontot, így csak a szabadok maradnak a végén\n",
        "\n",
        "for item in barna_szabad:   # menjünk végig a szabad időpontok listáján\n",
        "  print(item)               # írassuk ki az aktuális elemeket\n",
        "\n",
        "# Azt, hogy mikor mehet legkorábban haza úgy határozhatjuk meg, hogy fordított sorrendben megyünk végig az elemeken.\n",
        "# - megnézzük, az adott elem milyen index-szel szerepel az eredeti időpontos listával\n",
        "# - megnézzük két elem indexének különbségét\n",
        "# - ha az nagyobb mint 1, akkor közte van egy foglalt időpont\n",
        "# - tehát amint nagyobb lesz mint egy, akkor az az időpont lesz a legkorábbi, mikor hazamehet\n",
        "\n",
        "barna_szabad.sort(reverse=True)                                           # Tegyük fordított sorrendbe a szabad időpontokat\n",
        "\n",
        "dif = 0                                                                   # Ez a változó tárolja az indexek közötti különbséget\n",
        "\n",
        "for i in range(len(barna_szabad)):                                        # Menjünk végig a szabad időpontok listáján\n",
        "  utolso = idopontok.index(barna_szabad[i])                               # Az utolsó változó tartalmazza az utolsó szabad időpont indexét az időpontok listában\n",
        "  utolso_elotti = idopontok.index(barna_szabad[i+1])                      # Az utolsó előtti változó tartalmazza az utolsó előtti szabad időpont indexét az időpontok listában\n",
        "  dif = utolso - utolso_elotti                                            # a dif változó tárolja az aktuális indexkülönbséget\n",
        "\n",
        "  if dif > 1:                                                             # ha ez az indexkülönbség nagyobb, mint egy, azaz van köztük egy foglalt időpont, akkor\n",
        "    print(f\"Barna Eszter legkorábban távozhat: {barna_szabad[i]}\")        # írja ki, hogy az aktuális indexű időpontban mehet legkorábban haza\n",
        "    break                                                                 # mivel elértük a célunkat, lépjünk ki a ciklusból"
      ],
      "metadata": {
        "id": "8ieUNFLxG5oj"
      },
      "execution_count": null,
      "outputs": []
    }
  ]
}