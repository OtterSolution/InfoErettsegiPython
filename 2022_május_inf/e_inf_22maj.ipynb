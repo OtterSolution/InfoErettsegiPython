{
  "nbformat": 4,
  "nbformat_minor": 0,
  "metadata": {
    "colab": {
      "name": "e_inf_22maj.ipynb",
      "provenance": [],
      "collapsed_sections": [],
      "authorship_tag": "ABX9TyOrfucScdb+bEzmQQHNjgr3",
      "include_colab_link": true
    },
    "kernelspec": {
      "name": "python3",
      "display_name": "Python 3"
    },
    "language_info": {
      "name": "python"
    }
  },
  "cells": [
    {
      "cell_type": "markdown",
      "metadata": {
        "id": "view-in-github",
        "colab_type": "text"
      },
      "source": [
        "<a href=\"https://colab.research.google.com/github/OtterSolution/InfoErettsegiPython/blob/main/2022_m%C3%A1jus_inf/e_inf_22maj.ipynb\" target=\"_parent\"><img src=\"https://colab.research.google.com/assets/colab-badge.svg\" alt=\"Open In Colab\"/></a>"
      ]
    },
    {
      "cell_type": "markdown",
      "source": [
        "#**4. Építményadó**\n",
        "Egy Balaton-parti önkormányzat építményadót vezet be. Az adó mértéke a telken lévő \n",
        "építmény alapterületétől és a teleknek a Balatontól mért távolságától függ. \n",
        "\n",
        "A telkeket a Balatonparttól mért távolságtól függően három sávba sorolták be. Az A sávba \n",
        "azok a telkek kerültek, amelyek 300 méternél közelebb vannak a tóhoz a B sáv az előzőn túl \n",
        "600 méter távolságig terjed, a többi telek a C sávba tartozik. Az építmény után \n",
        "négyzetméterenként fizetendő összeg sávonként eltérő, azonban, ha az így kiszámított összeg \n",
        "nem éri el a 10.000 Ft-ot, akkor az adott építmény után nem kell adót fizetni.\n",
        "\n",
        "A testületi döntést az Adó Ügyosztály egy mintával készítette elő, amely csupán néhány utca \n",
        "adatait tartalmazza. Ezek az adatok az utca.txt fájlban vannak. A fájl első sorában a három \n",
        "adósávhoz tartozó négyzetméterenként fizetendő összeg található A, B, C sorrendben, egy-egy \n",
        "szóközzel elválasztva: \n",
        "```\n",
        "800 600 100 \n",
        "… \n",
        "33366 Aradi 8A C 180 \n",
        "22510 Aradi 8B C 137 \n",
        "90561 Aradi 10 C 168 \n",
        "… \n",
        "```\n",
        "A többi sorban egy-egy építmény adatai szerepelnek egy-egy szóközzel elválasztva. Az első \n",
        "a telek tulajdonosának ötjegyű adószáma; egy tulajdonosnak több telke is lehet. A második adat \n",
        "az utca neve, amely nem tartalmazhat szóközt. A harmadik adat a házszám, majd az adósáv \n",
        "megnevezése, végül az építmény alapterülete következik. A minta harmadik sorában például \n",
        "azt látjuk, hogy a 33366 adószámú tulajdonos telke az Aradi utca 8A-ban található, és a C sávba \n",
        "eső telken álló építmény alapterülete 180 m2\n",
        ".\n",
        "\n",
        "A fájl legfeljebb 1000 telek adatait tartalmazza. A feladat megoldása során kihasználhatja, \n",
        "hogy a fájlban az adatok utca, azon belül pedig házszám szerinti sorrendben következnek.\n",
        "\n",
        "Készítsen programot, amely az *utca.txt* állomány adatait felhasználva az alábbi \n",
        "kérdésekre válaszol! A program forráskódját mentse epitmenyado néven! (A program \n",
        "megírásakor a felhasználó által megadott adatok helyességét, érvényességét nem kell \n",
        "ellenőriznie, és feltételezheti, hogy a rendelkezésre álló adatok a leírtaknak megfelelnek.) \n",
        "\n",
        "A képernyőre írást igénylő részfeladatok esetén – a mintához tartalmában hasonlóan – írja \n",
        "ki a képernyőre a feladat sorszámát (például: 3. feladat), és utaljon a kiírt tartalomra is! \n",
        "Ha a felhasználótól kér be adatot, jelenítse meg a képernyőn, hogy milyen értéket vár! Mindkét \n",
        "esetben az ékezetmentes kiírás is elfogadott. "
      ],
      "metadata": {
        "id": "7NJH-S90EkVL"
      }
    },
    {
      "cell_type": "markdown",
      "source": [
        "##**Példa a szöveges kimenetek kialakításához:**\n",
        "```\n",
        "2. feladat. A mintában 543 telek szerepel. \n",
        "3. feladat. Egy tulajdonos adószáma: 68396 \n",
        "Harmat utca 22 \n",
        "Szepesi utca 17 \n",
        "5. feladat \n",
        "A sávba 165 telek esik, az adó 20805600 Ft. \n",
        "B sávba 144 telek esik, az adó 13107000 Ft. \n",
        "C sávba 234 telek esik, az adó 3479600 Ft. \n",
        "6. feladat. A több sávba sorolt utcák: \n",
        "Besztercei \n",
        "Gyurgyalag \n",
        "Icce \n",
        "Kurta \n",
        "Rezeda \n",
        "Szepesi\n",
        "```"
      ],
      "metadata": {
        "id": "h68gGNxKGUJv"
      }
    },
    {
      "cell_type": "markdown",
      "source": [
        "#**1. feladat**\n",
        " Olvassa be és tárolja el az *utca.txt* állományban talált adatokat, és annak \n",
        "felhasználásával oldja meg a következő feladatokat! "
      ],
      "metadata": {
        "id": "RppBN8Fd8htc"
      }
    },
    {
      "cell_type": "code",
      "source": [
        "# Nyissuk meg a fájlt és olvassuk be az adatait\n",
        "f = open(\"utca.txt\")\n",
        "adat = f.read()\n",
        "f.close()\n",
        "\n",
        "#Osszuk fel az adatokat sortörésenként\n",
        "lista = adat.split(\"\\n\")\n",
        "\n",
        "# A lista első eleme lesz az adó, a többi pedig az ingatlanok adatai\n",
        "adoalap = lista[0].split(\" \")\n",
        "ingatlan = lista[1:]\n",
        "\n",
        "# Csináljunk táblázatot az adatokból\n",
        "tablazat = []\n",
        "\n",
        "for i in range(len(ingatlan)):\n",
        "  sor = ingatlan[i].split(\" \")\n",
        "  tablazat.append(sor)\n",
        "\n",
        "# print(tablazat[-3:]) # Ellenőrizzük\n",
        "tablazat.pop() # Dobjuk el az utolsó, üres elemet"
      ],
      "metadata": {
        "id": "cBfH8zRTFXsN",
        "colab": {
          "base_uri": "https://localhost:8080/"
        },
        "outputId": "20d9ba07-dd4e-42e5-f5fc-8251f3a8985f"
      },
      "execution_count": 23,
      "outputs": [
        {
          "output_type": "execute_result",
          "data": {
            "text/plain": [
              "['']"
            ]
          },
          "metadata": {},
          "execution_count": 23
        }
      ]
    },
    {
      "cell_type": "markdown",
      "source": [
        "##**2. feladat:** \n",
        "Hány telek adatai találhatók az állományban? Az eredményt írassa ki a mintának \n",
        "megfelelően a képernyőre! \n",
        "\n",
        "```\n",
        "2. feladat. A mintában 543 telek szerepel. \n",
        "```\n"
      ],
      "metadata": {
        "id": "0mUBlGBHF1Xm"
      }
    },
    {
      "cell_type": "code",
      "source": [
        "telek = len(tablazat)                                         # Határozzuk meg a táblázat sorainak számát, majd\n",
        "print(f\"2. feladat. A mintában {telek} telek szerepel. \")     # írjuk ki az adatokat"
      ],
      "metadata": {
        "id": "YQLCyl7yGlux",
        "colab": {
          "base_uri": "https://localhost:8080/"
        },
        "outputId": "b199a947-02d8-4810-cecb-0ed50023260a"
      },
      "execution_count": 7,
      "outputs": [
        {
          "output_type": "stream",
          "name": "stdout",
          "text": [
            "2. feladat. A mintában 543 telek szerepel. \n"
          ]
        }
      ]
    },
    {
      "cell_type": "markdown",
      "source": [
        "##**3. feladat:** \n",
        "Kérje be egy tulajdonos adószámát, és írassa ki a mintához hasonlóan, hogy melyik utcában, \n",
        "milyen házszám alatt van építménye! Ha a megadott azonosító nem szerepel az \n",
        "adatállományban, akkor írassa ki a ***„Nem szerepel az adatállományban.”*** hibaüzenetet! \n",
        "\n",
        "\n",
        "```\n",
        "3. feladat. Egy tulajdonos adószáma: 68396 \n",
        "Harmat utca 22 \n",
        "Szepesi utca 17 \n",
        "```"
      ],
      "metadata": {
        "id": "ryapDyVWF1jZ"
      }
    },
    {
      "cell_type": "code",
      "source": [
        "# Kérjük be az adószámot\n",
        "adoszam = input(\"3. feladat. Egy tulajdonos adószáma: \")\n",
        "\n",
        "# Csináljunk egy változót, ami nézi, hogy hány ingatlan tartozik az adószámhoz:\n",
        "db = 0\n",
        "\n",
        "# Menjünk végig a táblázat sorain, és ha egyezik az adószám, írjuk ki a címet\n",
        "for i in range(len(tablazat)):\n",
        "  if tablazat[i][0] == adoszam:\n",
        "    utca = tablazat[i][1]\n",
        "    hazszam = tablazat[i][2]\n",
        "    print(f\"{utca} utca {hazszam}\")\n",
        "    db += 1\n",
        "\n",
        "# Ha nincs egy telek sem az adott adószámon, akkor írjuk ki ezt:\n",
        "if db == 0:\n",
        "  print(\"Nem szerepel az adatállományban.\")"
      ],
      "metadata": {
        "id": "69gVl8IoGtPy",
        "colab": {
          "base_uri": "https://localhost:8080/"
        },
        "outputId": "510ad2ea-3ea4-4412-9197-08956e427ce8"
      },
      "execution_count": 10,
      "outputs": [
        {
          "output_type": "stream",
          "name": "stdout",
          "text": [
            "3. feladat. Egy tulajdonos adószáma: 68396\n",
            "Harmat utca 22\n",
            "Szepesi utca 17\n"
          ]
        }
      ]
    },
    {
      "cell_type": "markdown",
      "source": [
        "##**4. feladat:** \n",
        "Készítsen függvényt ado néven, amely meghatározza egy adott építmény után fizetendő \n",
        "adót! A függvény paraméterlistájában szerepeljen az adósáv és az alapterület, visszaadott \n",
        "értéke pedig legyen a fizetendő adó! A következő feladatokban ezt a függvényt is \n",
        "felhasználhatja. "
      ],
      "metadata": {
        "id": "msH1uKJYF1sN"
      }
    },
    {
      "cell_type": "code",
      "source": [
        "def ado(adosav, alapterulet):             # Hozzuk létre a függvényt a megadott paraméterekkel\n",
        "  if adosav == \"A\":                         # Ha az \"A\" adósávba esik az ingatlan, akkor\n",
        "    adoegyseg = int(adoalap[0])               # Az egységnyi adó az adóalap lista első eleme lesz - int!\n",
        "  if adosav == \"B\":                         # Ha az \"B\" adósávba esik az ingatlan, akkor\n",
        "    adoegyseg = int(adoalap[1])               # Az egységnyi adó az adóalap lista második eleme lesz - int!\n",
        "  if adosav == \"C\":                         # Ha az \"C\" adósávba esik az ingatlan, akkor\n",
        "    adoegyseg = int(adoalap[2])               # Az egységnyi adó az adóalap lista harmadik eleme lesz - int!\n",
        "\n",
        "  osszeg = adoegyseg * alapterulet          # Az egységnyi adót szorozzuk be az alapterülettel\n",
        "\n",
        "  if osszeg < 10000:                        # Ha ez kisebb, mint 10000, akkor\n",
        "    osszeg = 0                                # Nullázzuk ki\n",
        "\n",
        "  return osszeg                             # Adjuk vissza a fizetendő összeget"
      ],
      "metadata": {
        "id": "RtHuN_WlG0KS"
      },
      "execution_count": 27,
      "outputs": []
    },
    {
      "cell_type": "markdown",
      "source": [
        "##**5. feladat:** \n",
        "Határozza meg, hogy hány építmény esik az egyes adósávokba, és mennyi az adó összege \n",
        "adósávonként! Az eredményt a mintának megfelelően írassa ki a képernyőre! \n",
        "\n",
        "```\n",
        "5. feladat \n",
        "A sávba 165 telek esik, az adó 20805600 Ft. \n",
        "B sávba 144 telek esik, az adó 13107000 Ft. \n",
        "C sávba 234 telek esik, az adó 3479600 Ft. \n",
        "\n",
        "```\n"
      ],
      "metadata": {
        "id": "bEOLkV1FF1zm"
      }
    },
    {
      "cell_type": "code",
      "source": [
        "# Írjuk ki a feladat sorszámát\n",
        "print(\"5. feladat\")\n",
        "\n",
        "# Hozzuk létre a sávok listáját\n",
        "savok = [\"A\", \"B\", \"C\"]\n",
        "\n",
        "# Menjünk végig az egyes sávokon:\n",
        "for sav in savok:\n",
        "  telek = 0                               # Ebbe gyűjtjük a telkeket\n",
        "  adok = 0                                # Ebbe pedig az adót\n",
        "\n",
        "  for i in range(len(tablazat)):          # Menjünk végig a táblázat sorain\n",
        "    adosav = tablazat[i][3]                 # Az adósáv legyen a táblázat 3. oszlopa\n",
        "    alapterulet = int(tablazat[i][-1])      # Az alapterület pedig a táblázat utolsó oszlopa - integerként\n",
        "    if adosav == sav:                       # Ha az adósáv megegyezik az aktuálissal, akkor\n",
        "      telek += 1                              # Növeljük a telkek számát\n",
        "      adok += ado(adosav, alapterulet)        # Az adóhoz pedig adjuk az aktuális telek után fizetendőt\n",
        "\n",
        "  print(f\"A sávba {telek} telek esik, az adó {adok} Ft.\") # Írjuk ki az eredményeket minden adósáv esetén"
      ],
      "metadata": {
        "id": "BWKzIKweGH9B",
        "colab": {
          "base_uri": "https://localhost:8080/"
        },
        "outputId": "0293033d-b81e-419d-fe74-4a475fdc370f"
      },
      "execution_count": 28,
      "outputs": [
        {
          "output_type": "stream",
          "name": "stdout",
          "text": [
            "5. feladat\n",
            "A sávba 165 telek esik, az adó 20805600 Ft.\n",
            "A sávba 144 telek esik, az adó 13107000 Ft.\n",
            "A sávba 234 telek esik, az adó 3479600 Ft.\n"
          ]
        }
      ]
    },
    {
      "cell_type": "markdown",
      "source": [
        "##**6. feladat:** \n",
        " Bár az utcák többé-kevésbé párhuzamosak a tó partjával, az egyes porták távolsága a parttól \n",
        "az utcában nem feltétlenül ugyanannyi. Emiatt néhány utcában – az ottani tulajdonosok \n",
        "felháborodására – egyes telkek eltérő sávba esnek. Listázza ki a képernyőre, hogy melyek \n",
        "azok az utcák, ahol a telkek sávokba sorolását emiatt felül kell vizsgálni! Feltételezheti, \n",
        "hogy minden utcában van legalább két telek.\n",
        "\n",
        "```\n",
        "6. feladat. A több sávba sorolt utcák: \n",
        "Besztercei \n",
        "Gyurgyalag \n",
        "Icce \n",
        "Kurta \n",
        "Rezeda \n",
        "Szepesi \n",
        " \n",
        "```\n"
      ],
      "metadata": {
        "id": "A4ONVL5Eh_Ma"
      }
    },
    {
      "cell_type": "code",
      "source": [
        "# Írjuk ki a feladat sorszámát\n",
        "print(\"6. feladat. A több sávba sorolt utcák:\")\n",
        "\n",
        "# Hozzuk létre az utcák egyedi listáját\n",
        "utcak = []\n",
        "\n",
        "for i in range(len(tablazat)):    # Menjünk végig a táblázat sorain\n",
        "  utca = tablazat[i][1]             # Nézzük meg az aktuális utcát\n",
        "  if utca not in utcak:               # Ha ez nincs az utcák listában, akkor\n",
        "    utcak.append(utca)                  # Vegyük fel\n",
        "\n",
        "for utca in utcak:                      # Menjünk végig az utcákon\n",
        "  savok = []                              # Vegyünk fel egy üres listát, amiben felvesszük az utcában lévő sávokat\n",
        "\n",
        "  for i in range(len(tablazat)):          # Menjünk végig a táblázat sorain\n",
        "    if utca == tablazat[i][1]:              # Ha az adott utca megegyezik az aktuálissal, akkor\n",
        "      if tablazat[i][3] not in savok:         # Ha az aktuális sáv nincs a sávok listájában, akkor\n",
        "        savok.append(tablazat[i][3])            # Vegyük fel oda\n",
        "\n",
        "  if len(savok) > 1:    # Ha a sávok listában több, mint egy elem van, akkor\n",
        "    print(utca)           # Írjuk ki az utca nevét"
      ],
      "metadata": {
        "id": "Q0BaLYyLh_Ma",
        "colab": {
          "base_uri": "https://localhost:8080/"
        },
        "outputId": "34f64c3b-10d7-4506-b9fe-c1346f307f1e"
      },
      "execution_count": 29,
      "outputs": [
        {
          "output_type": "stream",
          "name": "stdout",
          "text": [
            "6. feladat. A több sávba sorolt utcák:\n",
            "Besztercei\n",
            "Gyurgyalag\n",
            "Icce\n",
            "Kurta\n",
            "Rezeda\n",
            "Szepesi\n"
          ]
        }
      ]
    },
    {
      "cell_type": "markdown",
      "source": [
        "##**7. feladat:** \n",
        "Határozza meg a fizetendő adót tulajdonosonként! A tulajdonos adószámát és a fizetendő \n",
        "összeget írassa ki a mintának megfelelően a *fizetendo.txt* állományba! A fájlban \n",
        "minden tulajdonos adatai új sorban szerepeljenek, a tulajdonos adószámát egy szóközzel \n",
        "elválasztva kövesse az általa fizetendő adó teljes összege. \n",
        "\n",
        "Példa a *fizetendo.txt* fájl kialakításához: \n",
        "(A fájl a megadott forrásállomány esetén 519 adatsort fog tartalmazni.)\n",
        "``` \n",
        "38522 18000 \n",
        "86379 0 \n",
        "79906 12300 \n",
        "… \n",
        "73850 204000 \n",
        "74143 100000 \n",
        "59801 563200 \n",
        "73011 70400 \n",
        "```"
      ],
      "metadata": {
        "id": "LbNFch59h_zt"
      }
    },
    {
      "cell_type": "code",
      "source": [
        "# Hozzuk létre a fájlt, és nyissuk meg írásra\n",
        "f = open(\"fizetendo.txt\", \"w\")\n",
        "\n",
        "for i in range(len(tablazat)):        # MEnjünk végig a táblázat sorain\n",
        "  adoszam = tablazat[i][0]              # Az adószám az adott sor első,\n",
        "  adosav = tablazat[i][3]               # Az adósáv a negyedik,\n",
        "  alapterulet = int(tablazat[i][-1])    # Az alapterület pedig az utolsó eleme lesz - integer!!\n",
        "\n",
        "  osszeg = ado(adosav, alapterulet)     # A függvény segítségével számoljuk ki a fizetendő összeget\n",
        "\n",
        "  f.write(f\"{adoszam} {osszeg}\\n\")      # Írjuk a fájlba a szükséges adatokat\n",
        "\n",
        "f.close()                             # Zárjuk be a fájlt"
      ],
      "metadata": {
        "id": "iF_f7czvh_zu"
      },
      "execution_count": 30,
      "outputs": []
    }
  ]
}