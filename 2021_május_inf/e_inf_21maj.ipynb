{
  "nbformat": 4,
  "nbformat_minor": 0,
  "metadata": {
    "colab": {
      "name": "e_inf_21maj.ipynb",
      "provenance": [],
      "collapsed_sections": [],
      "authorship_tag": "ABX9TyOOD7VoOR9Lh1nDDA4/jMlQ",
      "include_colab_link": true
    },
    "kernelspec": {
      "name": "python3",
      "display_name": "Python 3"
    },
    "language_info": {
      "name": "python"
    }
  },
  "cells": [
    {
      "cell_type": "markdown",
      "metadata": {
        "id": "view-in-github",
        "colab_type": "text"
      },
      "source": [
        "<a href=\"https://colab.research.google.com/github/OtterSolution/InfoErettsegiPython/blob/main/2021_m%C3%A1jus_inf/e_inf_21maj.ipynb\" target=\"_parent\"><img src=\"https://colab.research.google.com/assets/colab-badge.svg\" alt=\"Open In Colab\"/></a>"
      ]
    },
    {
      "cell_type": "markdown",
      "source": [
        "# 4. Gödrök\n",
        "\n",
        "Egy teljesen sík terepen a talaj olyan anyagból van, ami nem ereszti át a vizet. Ezen a\n",
        "területen egy egyenes mentén munkagépekkel 10 méter széles csatornát építenek. A munka\n",
        "még nem készült el, ezért a csatorna mélysége nem állandó, helyenként a felszín is érintetlen.\n",
        "A már elkészült résszel, mint különálló gödrök sorozatával foglalkozik a feladat. Az egyszerűbb\n",
        "kezelés érdekében a gödröket úgy tekintjük, hogy oldalfaluk függőleges, teljes szélességben\n",
        "azonos mélységű, így a keresztmetszeti kép jól\n",
        "leírja a terepviszonyokat.\n",
        "\n",
        "A *melyseg.txt* fájlban méterenként\n",
        "rögzítették, hogy azon a szakaszon milyen\n",
        "mélyen van a gödör alja. Minden sor egy-egy\n",
        "egész számot tartalmaz, amely a mélység\n",
        "értékét mutatja – szintén méterben. A fájl\n",
        "legfeljebb 2000 számot tartalmaz, értékük\n",
        "legfeljebb 30 lehet. Tudjuk, hogy az első és az\n",
        "utolsó méteren sértetlen a felszín, tehát ott\n",
        "biztosan a 0 szám áll.\n",
        "\n",
        "Például:\n",
        "\n",
        "![image.png](data:image/png;base64,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)\n",
        "\n",
        "A fenti példában látható keresztmetszeti képen a melyseg.txt bemeneti fájl tartalmának a\n",
        "kezdete látható. Az egyszerűbb szemléltetés miatt a forrásfájlban külön sorokban szereplő\n",
        "értékeket itt az ábrán egymás mellett szerepeltetjük. Leolvasható, hogy az első méteren 0 a\n",
        "mélység. Az első gödör a 7. méteren kezdődik. Az első gödör 16 méter hosszan tart, legnagyobb\n",
        "mélysége 4 méter, térfogata 440 m3. A második gödör a 26. méternél kezdődik, 3 méter hosszan\n",
        "tart, térfogata 60 m3.\n",
        "\n",
        "Készítsen programot, amely a melyseg.txt állományt felhasználva az alábbi kérdésekre\n",
        "válaszol! A program forráskódját mentse godor néven! (A program megírásakor a felhasználó\n",
        "által megadott adatok helyességét, érvényességét nem kell ellenőriznie, feltételezheti, hogy a\n",
        "rendelkezésre álló adatok a leírtaknak megfelelnek.)\n",
        "\n",
        "A képernyőre írást igénylő részfeladatok eredményének megjelenítése előtt írja a képernyőre\n",
        "a feladat sorszámát (például: 2. feladat)! Ha a felhasználótól kér be adatot, jelenítse meg a\n",
        "képernyőn, hogy milyen értéket vár! Az ékezetmentes kiírás is elfogadott."
      ],
      "metadata": {
        "id": "7NJH-S90EkVL"
      }
    },
    {
      "cell_type": "markdown",
      "source": [
        "##**Példa a szöveges kimenetek kialakításához:**\n",
        "```\n",
        "1. feladat\n",
        "A fájl adatainak száma: 694\n",
        "2. feladat\n",
        "Adjon meg egy távolságértéket! 9\n",
        "Ezen a helyen a felszín 2 méter mélyen van.\n",
        "3. feladat\n",
        "Az érintetlen terület aránya 10.09%.\n",
        "5. feladat\n",
        "A gödrök száma: 22\n",
        "6. feladat\n",
        "a)\n",
        "A gödör kezdete: 7 méter, a gödör vége: 22 méter.\n",
        "b)\n",
        "Nem mélyül folyamatosan.\n",
        "c)\n",
        "A legnagyobb mélysége 4 méter.\n",
        "d)\n",
        "A térfogata 440 m^3.\n",
        "e)\n",
        "A vízmennyiség 280 m^3.\n",
        "```"
      ],
      "metadata": {
        "id": "h68gGNxKGUJv"
      }
    },
    {
      "cell_type": "markdown",
      "source": [
        "##**1. feladat:** \n",
        "Olvassa be és tárolja el a *melyseg.txt* fájl tartalmát! Írja ki a képernyőre, hogy az\n",
        "adatforrás hány adatot tartalmaz!\n",
        "\n",
        "```\n",
        "1. feladat\n",
        "A fájl adatainak száma: 694\n",
        "```"
      ],
      "metadata": {
        "id": "r1RvemOtFlFj"
      }
    },
    {
      "cell_type": "code",
      "source": [
        "# Írjuk ki a feladat sorszámát\n",
        "print(\"1. feladat\")\n",
        "\n",
        "# Olvassuk be a fájl tartalmát és mentsük változóba\n",
        "f = open(\"melyseg.txt\", \"r\")  # megnyitjuk a fájlt\n",
        "tartalom = f.read()               # beolvassuk a tartalmát és mentjük\n",
        "f.close()                     # bezárjuk a fájlt\n",
        "\n",
        "# A fájl soronként egy adatot tartalmaz, alakítsuk listává\n",
        "adat = tartalom.split('\\n')\n",
        "#print(adat[-3:])                # nézzük meg az utolsó három elemet, majd kommenteljük ki\n",
        "adat.pop()                       # távolítsuk el az utolsó, üres elemet\n",
        "\n",
        "# Írjuk ki a fájl adatainak számát:\n",
        "hossz = len(adat)                           # nézzük meg az adatlista hosszát\n",
        "print(f\"A fájl adatainak száma: {hossz}\")   # írjuk ki a példának megfelelően"
      ],
      "metadata": {
        "id": "cBfH8zRTFXsN",
        "colab": {
          "base_uri": "https://localhost:8080/"
        },
        "outputId": "439833c7-8e3f-48ab-e061-a3659f33dcff"
      },
      "execution_count": 4,
      "outputs": [
        {
          "output_type": "stream",
          "name": "stdout",
          "text": [
            "1. feladat\n",
            "A fájl adatainak száma: 694\n"
          ]
        }
      ]
    },
    {
      "cell_type": "markdown",
      "source": [
        "##**2. feladat:** \n",
        "Olvasson be egy távolságértéket, majd írja a képernyőre, hogy milyen mélyen van a gödör\n",
        "alja azon a helyen! Ezt a távolságértéket használja majd a 6. feladat megoldása során is!\n",
        "\n",
        "```\n",
        "2. feladat\n",
        "Adjon meg egy távolságértéket! 9\n",
        "Ezen a helyen a felszín 2 méter mélyen van.\n",
        "```"
      ],
      "metadata": {
        "id": "0mUBlGBHF1Xm"
      }
    },
    {
      "cell_type": "code",
      "source": [
        "# Írjuk ki a feladat sorszámát\n",
        "print(\"2. feladat\")\n",
        "\n",
        "# Kérjük be az adatot\n",
        "tav = input(\"Adjon meg egy távolságértéket! \")\n",
        "\n",
        "# Keressük ki a hozzá tartozó mélységet\n",
        "idx = int(tav)-1      # a keresett hely a bekért érték - 1 lesz\n",
        "melyseg = adat[idx]   # keressük vissza az adott indexhez tartozó értéket\n",
        "\n",
        "# Írjuk ki az eredményt a példának megfelelően:\n",
        "print(f\"Ezen a helyen a felszín {melyseg} méter mélyen van.\")"
      ],
      "metadata": {
        "id": "YQLCyl7yGlux",
        "colab": {
          "base_uri": "https://localhost:8080/"
        },
        "outputId": "8462df15-af04-4047-e02d-0dfb4ec281eb"
      },
      "execution_count": 6,
      "outputs": [
        {
          "output_type": "stream",
          "name": "stdout",
          "text": [
            "2. feladat\n",
            "Adjon meg egy távolságértéket! 9\n",
            "Ezen a helyen a felszín 2 méter mélyen van.\n"
          ]
        }
      ]
    },
    {
      "cell_type": "markdown",
      "source": [
        "##**3. feladat:** \n",
        "Határozza meg, hogy a felszín hány százaléka maradt érintetlen és jelenítse meg 2 tizedes\n",
        "pontossággal!\n",
        "\n",
        "```\n",
        "3. feladat\n",
        "Az érintetlen terület aránya 10.09%.\n",
        "```"
      ],
      "metadata": {
        "id": "ryapDyVWF1jZ"
      }
    },
    {
      "cell_type": "code",
      "source": [
        "# Írjuk ki a feladat sorszámát\n",
        "print(\"3. feladat\")\n",
        "\n",
        "# Az lesz érintetlen felület, ahol a számérték nulla\n",
        "erintetlen = 0        # ez adja a keresett területek számát\n",
        "\n",
        "for item in adat:     # haladjuk végig a lista elemein\n",
        "  if item == \"0\":     # ha az adott elem \"0\", akkor\n",
        "    erintetlen += 1   # az érintetlen területek arányát növeljük eggyel\n",
        "\n",
        "# Az arányhoz szükség lesz az első feladatban meghatározott összes adat mennyiségére (hossz)\n",
        "arany = erintetlen / hossz                            # az érintetlen és az összes terület hányadosa adja a keresett arányt\n",
        "szazalek = round(arany * 100, 2)                      # alakítsuk %-os formába és kerekítsük\n",
        "print(f\"Az érintetlen terület aránya {szazalek}%.\")   # írjuk ki az eredményt a példának megfelelően"
      ],
      "metadata": {
        "id": "69gVl8IoGtPy",
        "colab": {
          "base_uri": "https://localhost:8080/"
        },
        "outputId": "6b106389-1096-4a7d-c7be-2402b015f6b1"
      },
      "execution_count": 7,
      "outputs": [
        {
          "output_type": "stream",
          "name": "stdout",
          "text": [
            "3. feladat\n",
            "Az érintetlen terület aránya 10.09%.\n"
          ]
        }
      ]
    },
    {
      "cell_type": "markdown",
      "source": [
        "##**4. feladat:** \n",
        "Írja ki a godrok.txt fájlba a gödrök leírását, azaz azokat a számsorokat, amelyek egy-egy\n",
        "gödör méterenkénti mélységét adják meg! Minden gödör leírása külön sorba kerüljön! Az\n",
        "állomány pontosan a gödrök számával egyező számú sort tartalmazzon!\n",
        "\n",
        "**A** godrok.txt **fájl első két sorának tartalma:**\n",
        "```\n",
        "2 2 2 2 4 4 3 2 2 3 3 4 4 3 2 2\n",
        "2 2 2\n",
        "…\n",
        "```"
      ],
      "metadata": {
        "id": "msH1uKJYF1sN"
      }
    },
    {
      "cell_type": "code",
      "source": [
        "# Hozzunk létre egy listát, ame tartalmazza a gödröket\n",
        "oszlop = \"\"                 # Ez lesz az aktuális gödör\n",
        "godrok = []                 # Ez lesz a gödröket tartalmazó lista\n",
        "\n",
        "for item in adat:           # Menjünk végig az adatlista elemein\n",
        "  if item != \"0\":             # Ha az adott elem nem nulla, akkor\n",
        "    oszlop += item              # adjuk az adott mélységet a gödörhöz\n",
        "  else:                       # Különben (ha az adott elem nulla),\n",
        "    if oszlop != \"\":            # Ha az oszlop változó nem üres\n",
        "      godrok.append(oszlop)       # rendeljük a listához az adott gödröt\n",
        "      oszlop = \"\"                 # ürítsük ki a gödröt\n",
        "\n",
        "\n",
        "# Hozzuk létre a fájlt, írásra\n",
        "f = open(\"godrok.txt\", \"w\")\n",
        "\n",
        "# Írjuk fájlba az eredményeket\n",
        "for i in range(len(godrok)):    # Menjünk végig a gödrök listáján\n",
        "  if i == 0:                      # Az első elem esetében\n",
        "    f.write(godrok[i])                # Írjuk a fájlba a gödröket\n",
        "  else:                           # A többinél pedig\n",
        "    f.write(\"\\n\")                     # Írjunk egy sortörést,\n",
        "    f.write(godrok[i])                # majd a gödröket\n",
        "# Zárjuk be a fájlt\n",
        "f.close()                         "
      ],
      "metadata": {
        "id": "RtHuN_WlG0KS"
      },
      "execution_count": 26,
      "outputs": []
    },
    {
      "cell_type": "markdown",
      "source": [
        "##**5. feladat:** \n",
        "Határozza meg a gödrök számát és írja a képernyőre!\n",
        "\n",
        "```\n",
        "5. feladat\n",
        "A gödrök száma: 22\n",
        "```\n"
      ],
      "metadata": {
        "id": "bEOLkV1FF1zm"
      }
    },
    {
      "cell_type": "code",
      "source": [
        "# Írjuk ki a feladat sorszámát\n",
        "print(\"5. feladat\")\n",
        "\n",
        "# Az előző feladatban létrehozott godrok lista hosszát határozzuk meg\n",
        "godrok_szama = len(godrok)\n",
        "\n",
        "# Írjuk ki az eredményt a példának megfelelően\n",
        "print(f\"A gödrök száma: {godrok_szama}\")"
      ],
      "metadata": {
        "id": "BWKzIKweGH9B",
        "colab": {
          "base_uri": "https://localhost:8080/"
        },
        "outputId": "d00edd2a-d9f1-41c0-9f52-cfa980e4ac6f"
      },
      "execution_count": 27,
      "outputs": [
        {
          "output_type": "stream",
          "name": "stdout",
          "text": [
            "5. feladat\n",
            "A gödrök száma: 22\n"
          ]
        }
      ]
    },
    {
      "cell_type": "markdown",
      "source": [
        "##**6. feladat:** \n",
        "Ha a 2. feladatban beolvasott helyen nincs gödör, akkor „Az adott helyen nincs gödör.”\n",
        "üzenetet jelenítse meg, ha ott gödör található, akkor határozza meg, hogy\n",
        "* a) mi a gödör kezdő és végpontja! A meghatározott értékeket írja a \n",
        "képernyőre!\n",
        "(Ha nem tudja meghatározni, használja a további részfeladatoknál a 7 és 22\n",
        "értéket, mint a kezdő és a végpont helyét)\n",
        "*  b) a legmélyebb pontja felé mindkét irányból folyamatosan mélyül-e! Azaz a gödör\n",
        "az egyik szélétől monoton mélyül egy pontig, és onnantól monoton emelkedik a\n",
        "másik széléig. Az eredménytől függően írja ki a képernyőre a „Nem mélyül\n",
        "folyamatosan.” vagy a „Folyamatosan mélyül.” mondatot!\n",
        "* c) mekkora a legnagyobb mélysége! A meghatározott értéket írja a képernyőre!\n",
        "* d) mekkora a térfogata, ha szélessége minden helyen 10 méternyi! A meghatározott\n",
        "értéket írja a képernyőre!\n",
        "* e) a félkész csatorna esőben jelentős mennyiségű vizet fogad be. Egy gödör annyi\n",
        "vizet képes befogadni anélkül, hogy egy nagyobb szélvihar hatására se öntsön\n",
        "ki, amennyi esetén a víz felszíne legalább 1 méter mélyen van a külső felszínhez\n",
        "képest. Írja a képernyőre ezt a vízmennyiséget!\n",
        "\n",
        "```\n",
        "6. feladat\n",
        "a)\n",
        "A gödör kezdete: 7 méter, a gödör vége: 22 méter.\n",
        "b)\n",
        "Nem mélyül folyamatosan.\n",
        "c)\n",
        "A legnagyobb mélysége 4 méter.\n",
        "d)\n",
        "A térfogata 440 m^3.\n",
        "e)\n",
        "A vízmennyiség 280 m^3.\n",
        "```"
      ],
      "metadata": {
        "id": "07fXDuE7GKWS"
      }
    },
    {
      "cell_type": "code",
      "source": [
        "# Írjuk ki a feladat sorszámát\n",
        "print(\"6. feladat\")"
      ],
      "metadata": {
        "id": "Lc1B5klip6Vo"
      },
      "execution_count": null,
      "outputs": []
    },
    {
      "cell_type": "code",
      "source": [
        "# a) feladat\n",
        "print(\"a)\")\n",
        "\n",
        "# A 2. feladatban az idx változó tartalmazza a megadott helyet\n",
        "# Az indexekel haladjunk előre és vissza, hogy megtaláljuk a kezdő és végpontot\n",
        "\n",
        "i = idx\n",
        "while adat[i] != \"0\":\n",
        "  i +=1\n",
        "\n",
        "j = idx\n",
        "while adat[j] != \"0\":\n",
        "  j -=1\n",
        "\n",
        "# Írjuk ki az eredményt a példának megfelelően\n",
        "print(f\"A gödör kezdete: {j+2} méter, a gödör vége: {i} méter.\")"
      ],
      "metadata": {
        "id": "8ieUNFLxG5oj",
        "colab": {
          "base_uri": "https://localhost:8080/"
        },
        "outputId": "d2c525ee-42e2-4339-ad30-84b4af8388ad"
      },
      "execution_count": 34,
      "outputs": [
        {
          "output_type": "stream",
          "name": "stdout",
          "text": [
            "6. feladat\n",
            "a)\n",
            "A gödör kezdete: 7 méter, a gödör vége: 22 méter.\n"
          ]
        }
      ]
    },
    {
      "cell_type": "code",
      "source": [
        "# b) feladat\n",
        "print(\"b)\")\n",
        "\n",
        "# Számoljuk ki a mélyülést\n",
        "melyules = ['']                           # Ebbe fogjuk menteni a mélyüléseket, kezdetben tartalmazzon egy üres stringet (hogy indexelhető legyen az első ciklusban is)\n",
        "\n",
        "for k in range(j,i+1):                    # Haladjunk végig a gödör kezdeti, illetve a végső - 1 indexei között\n",
        "  if adat[k+1] > adat[k]:                   # Ha a következő mélység negyobb, mint az aktuális, és                \n",
        "    if melyules[-1] != \"mélyül\":              # A mélyülés lista utolsó eleme nem a mélyül, akkor\n",
        "      melyules.append(\"mélyül\")                 # Rendeljük hozzá a listához a mélyülést\n",
        "  elif adat[k+1] < adat[k]:                 # Viszont, ha a következő mélység kisebb, mint az aktuális, és\n",
        "    if melyules[-1] != \"emelkedik\":           # A mélyülés lista utolsó eleme nem az emelkedik, akkor\n",
        "      melyules.append(\"emelkedik\")              # Rendeljük hozzá a listához az emelkedést\n",
        "\n",
        "if len(melyules) == 3:                  # Ha folyamatosan mélyül, akkor tartalmazza az üres stringet, a mélyülést és az emelkedést, azaz 3 elemet\n",
        "  print(\"Folyamatosan mélyül.\")           # Ekkor írjuk ki az eredményt a példának megfelelően\n",
        "else:                                   # Ha több eleme van, akkor \n",
        "  print(\"Nem mélyül folyamatosan.\")       #Írjuk ki az eredményt a példának megfelelően"
      ],
      "metadata": {
        "colab": {
          "base_uri": "https://localhost:8080/"
        },
        "id": "gDOLJOD6oULS",
        "outputId": "f6eeeae4-f765-41b4-d660-41dfd7ca0809"
      },
      "execution_count": 52,
      "outputs": [
        {
          "output_type": "stream",
          "name": "stdout",
          "text": [
            "b)\n",
            "Nem mélyül folyamatosan.\n"
          ]
        }
      ]
    },
    {
      "cell_type": "code",
      "source": [
        "# c) feladat\n",
        "print(\"c)\")\n",
        "\n",
        "# Menjünk végig a gödör mélységein, és mentsük ki a legnagyobb értéket\n",
        "max_melyseg = \"0\"               # kiindulási állapot\n",
        "\n",
        "for k in range(j, i):           # menjünk végig a j indextől az i-ig\n",
        "  if adat[k] > max_melyseg:       # ha az aktuélis mélység nagyobb, mint a max_melyseg, akkor\n",
        "    max_melyseg = adat[k]           # az adott mélység legyen a max_melyseg értéke\n",
        "\n",
        "# Írjuk ki az eredményt a feladatnak megfelelően\n",
        "print(f\"A legnagyobb mélysége {max_melyseg} méter.\")"
      ],
      "metadata": {
        "colab": {
          "base_uri": "https://localhost:8080/"
        },
        "id": "R5uu-U4urPvP",
        "outputId": "18a23aaa-40c0-4adf-f904-1bb276a03fa0"
      },
      "execution_count": 55,
      "outputs": [
        {
          "output_type": "stream",
          "name": "stdout",
          "text": [
            "c)\n",
            "A legnagyobb mélysége 4 méter.\n"
          ]
        }
      ]
    },
    {
      "cell_type": "code",
      "source": [
        "# d) feladat\n",
        "print(\"d)\")\n",
        "\n",
        "# Szedjük listába a mélységeket\n",
        "melysegek = []                  # Ebbe mentjük a mélységeket\n",
        "\n",
        "for k in range(j+1, i):         # Menjünk végig a kiindulási+1 indextől a végsőig\n",
        "  melyseg = int(adat[k])          # Az aktuális mélységeket konvertáljuk egész számmá\n",
        "  melysegek.append(melyseg)       # majd rendeljük hozzá a listához\n",
        "\n",
        "# Számoljuk ki a keresztmetszet területét\n",
        "A = sum(melysegek)    # mivel a hossz 1, ígg elegendő összegezni a mélységeket\n",
        "\n",
        "# Számoljuk ki a térfogatot\n",
        "V = A * 10\n",
        "\n",
        "# Írjuk ki az eredményt\n",
        "print(f\"A térfogata {V} m^3.\")"
      ],
      "metadata": {
        "colab": {
          "base_uri": "https://localhost:8080/"
        },
        "id": "foUKsqP4rQ1E",
        "outputId": "d319a347-faf0-4c86-b06a-b4a9757fe79e"
      },
      "execution_count": 60,
      "outputs": [
        {
          "output_type": "stream",
          "name": "stdout",
          "text": [
            "d)\n"
          ]
        }
      ]
    },
    {
      "cell_type": "code",
      "source": [
        "# e) feladat\n",
        "print(\"e)\")\n",
        "\n",
        "# Számoljuk ki a gödrökben a maximális vízszintet\n",
        "vizszintek = []\n",
        "for melyseg in melysegek:\n",
        "  vizszint = melyseg - 1\n",
        "  vizszintek.append(vizszint)\n",
        "\n",
        "# Számoljuk ki a keresztmetszet területét\n",
        "A = sum(vizszintek)    # mivel a hossz 1, ígg elegendő összegezni a mélységeket\n",
        "\n",
        "# Számoljuk ki a térfogatot\n",
        "V = A * 10\n",
        "\n",
        "# Írjuk ki az eredményt\n",
        "print(f\"A vízmennyiség {V} m^3.\")"
      ],
      "metadata": {
        "colab": {
          "base_uri": "https://localhost:8080/"
        },
        "id": "nBKX-tlt3aIr",
        "outputId": "b13139f2-870e-4854-fac7-5b4e6cf41074"
      },
      "execution_count": 66,
      "outputs": [
        {
          "output_type": "stream",
          "name": "stdout",
          "text": [
            "e)\n",
            "A vízmennyiség 280 m^3.\n"
          ]
        }
      ]
    }
  ]
}