{
  "nbformat": 4,
  "nbformat_minor": 0,
  "metadata": {
    "colab": {
      "name": "e_inf_17maj.ipynb",
      "provenance": [],
      "collapsed_sections": [],
      "authorship_tag": "ABX9TyMHLKkt7mXaVoJEqjbaAX10",
      "include_colab_link": true
    },
    "kernelspec": {
      "name": "python3",
      "display_name": "Python 3"
    },
    "language_info": {
      "name": "python"
    }
  },
  "cells": [
    {
      "cell_type": "markdown",
      "metadata": {
        "id": "view-in-github",
        "colab_type": "text"
      },
      "source": [
        "<a href=\"https://colab.research.google.com/github/OtterSolution/InfoErettsegiPython/blob/main/2017_m%C3%A1jus_inf/e_inf_17maj.ipynb\" target=\"_parent\"><img src=\"https://colab.research.google.com/assets/colab-badge.svg\" alt=\"Open In Colab\"/></a>"
      ]
    },
    {
      "cell_type": "markdown",
      "source": [
        "# 4. Tesztverseny\n",
        "\n",
        "Egy közismereti versenyen a versenyzőknek 13+1, azaz összesen 14 tesztfeladatot tűznek\n",
        "ki. A versenyzőknek minden feladat esetén négy megadott lehetőség (A, B, C, D) közül kell\n",
        "a helyes választ megjelölniük. A versenybizottság garantálja, hogy tesztlapon minden\n",
        "kérdéshez pontosan egy helyes válasz tartozik. A kitöltött tesztlapokat elektronikusan rögzítik,\n",
        "a visszaélések elkerülése végett a versenyzőket betűkből és számokból álló kóddal azonosítják.\n",
        "\n",
        "A helyes megoldást és a versenyzők válaszait a valaszok.txt szöveges állomány\n",
        "tartalmazza. A fájlban legfeljebb 500 versenyző adatai szerepelnek. A fájl első sorában a helyes\n",
        "válaszok szerepelnek. A fájl többi sora a versenyzők kódjával kezdődik, ezt egy szóköz, majd\n",
        "az adott versenyző által adott válaszok sorozata követi. A versenyzők kódja legfeljebb\n",
        "5 karakterből áll. A válaszok a feladatokkal egyező sorrendben, elválasztójel nélkül,\n",
        "nagybetűvel szerepelnek. Ha a versenyző egy kérdésre nem válaszolt, akkor annak helyén X\n",
        "betű szerepel. Például:\n",
        "\n",
        "```\n",
        "BCCCDBBBBCDAAA\n",
        "AB123 BXCDBBACACADBC\n",
        "AH97 BCACDBDDBCBBCA\n",
        "…\n",
        "```\n",
        "A 2. kérdésre a helyes válasz a C volt, de erre a kérdésre az AB123 kódú versenyző nem\n",
        "válaszolt.\n",
        "\n",
        "Készítsen programot *tesztverseny* néven az alábbi feladatok megoldására! (A program\n",
        "megírásakor a felhasználó által megadott adatok helyességét, érvényességét nem kell\n",
        "ellenőriznie, feltételezheti, hogy a rendelkezésre álló adatok a leírtaknak megfelelnek.)\n",
        "\n",
        "A képernyőre írást igénylő részfeladatok eredményének megjelenítése előtt írja a képernyőre\n",
        "a feladat sorszámát (például: `2. feladat:`)! Ha a felhasználótól kér be adatot, jelenítse meg a\n",
        "képernyőn, hogy milyen értéket vár! A képernyőn megjelenő üzenetek az adott környezet\n",
        "nyelvi sajátosságainak megfelelően a mintától eltérhetnek (pl. ékezetmentes betűk, tizedespont\n",
        "használata)."
      ],
      "metadata": {
        "id": "7NJH-S90EkVL"
      }
    },
    {
      "cell_type": "markdown",
      "source": [
        "##**Példa a szöveges kimenetek kialakításához:**\n",
        "```\n",
        "1. feladat: Az adatok beolvasása\n",
        "2. feladat: A vetélkedőn 303 versenyző indult.\n",
        "3. feladat: A versenyző azonosítója = AB123\n",
        "BXCDBBACACADBC (a versenyző válasza)\n",
        "4. feladat:\n",
        "BCCCDBBBBCDAAA (a helyes megoldás)\n",
        "+ + + + (a versenyző helyes válaszai)\n",
        "5. feladat: A feladat sorszáma = 10\n",
        "A feladatra 111 fő, a versenyzők 36,63%-a adott helyes\n",
        "választ.\n",
        "6. feladat: A versenyzők pontszámának meghatározása\n",
        "7. feladat: A verseny legjobbjai:\n",
        "1. díj (56 pont): JO001\n",
        "2. díj (52 pont): DG490\n",
        "2. díj (52 pont): UA889\n",
        "3. díj (49 pont): FX387\n",
        "```"
      ],
      "metadata": {
        "id": "h68gGNxKGUJv"
      }
    },
    {
      "cell_type": "markdown",
      "source": [
        "##**1. feladat:** \n",
        "Olvassa be és tárolja el a *valaszok.txt* szöveges állomány adatait!\n",
        "\n",
        "```\n",
        "1. feladat: Az adatok beolvasása\n",
        "```"
      ],
      "metadata": {
        "id": "r1RvemOtFlFj"
      }
    },
    {
      "cell_type": "code",
      "source": [
        "f = open(\"valaszok.txt\")\n",
        "adat = f.read()\n",
        "f.close()\n",
        "\n",
        "# Bontsuk fel sortörések mentén az adatokat\n",
        "adat_lista = adat.split('\\n')\n",
        "#adat_lista[:3] # Nézzük meg az első három elemet\n",
        "\n",
        "# Az első elemet válasszuk le, ez lesz a helyes válasz\n",
        "megoldas = adat_lista[0]\n",
        "\n",
        "# Majd ezt töröljük\n",
        "adat_lista = adat_lista[1:]\n",
        "\n",
        "# Bontsuk fel szóközönként az adatlistát:\n",
        "tablazat = []\n",
        "\n",
        "for i in range(len(adat_lista)):\n",
        "  sor = adat_lista[i].split()\n",
        "  tablazat.append(sor)\n",
        "\n",
        "# print(tablazat[-3:]) # Nézzük meg az utolsó három elemet\n",
        "tablazat.pop() # Távolítsuk el az utolsó üres elemet\n",
        "\n",
        "# Írjuk ki a feladatot a példának megfelelően:\n",
        "print(\"1. feladat: Az adatok beolvasása\")"
      ],
      "metadata": {
        "id": "cBfH8zRTFXsN"
      },
      "execution_count": null,
      "outputs": []
    },
    {
      "cell_type": "markdown",
      "source": [
        "##**2. feladat:** \n",
        "Jelenítse meg a képernyőn a mintának megfelelően, hogy hány versenyző vett részt\n",
        "a tesztversenyen!\n",
        "\n",
        "```\n",
        "2. feladat: A vetélkedőn 303 versenyző indult.\n",
        "```"
      ],
      "metadata": {
        "id": "0mUBlGBHF1Xm"
      }
    },
    {
      "cell_type": "code",
      "source": [
        "# Nézzük meg hány elemet tartalmaz a táblázat lista\n",
        "hossz = len(tablazat)\n",
        "\n",
        "# Írjuk ki a példának megfelelően\n",
        "print(f\"2. feladat: A vetélkedőn {hossz} versenyző indult.\")"
      ],
      "metadata": {
        "id": "YQLCyl7yGlux"
      },
      "execution_count": null,
      "outputs": []
    },
    {
      "cell_type": "markdown",
      "source": [
        "##**3. feladat:** \n",
        "Kérje be egy versenyző azonosítóját, és jelenítse meg a mintának megfelelően a hozzá\n",
        "eltárolt válaszokat! Feltételezheti, hogy a fájlban létező azonosítót adnak meg.\n",
        "\n",
        "```\n",
        "3. feladat: A versenyző azonosítója = AB123\n",
        "BXCDBBACACADBC (a versenyző válasza)\n",
        "```"
      ],
      "metadata": {
        "id": "ryapDyVWF1jZ"
      }
    },
    {
      "cell_type": "code",
      "source": [
        "# Kérjük be az azonosítót:\n",
        "id = input(\"3. feladat: A versenyző azonosítója = \")\n",
        "\n",
        "# Keressük meg a versenyzőt a táblázatban, és mentsük ki a válaszát\n",
        "for i in range(len(tablazat)):  # Haladjunk végig a táblázat sorain\n",
        "  if tablazat[i][0] == id:      # ha az adott sorban szereplő azonosító megegyezik a bekérttel, akkor\n",
        "    valasz = tablazat[i][1]       # mentsük el a válszat\n",
        "    break                         # Ha megvan, akkor lépjünk ki a for ciklusból\n",
        "\n",
        "print(f\"{valasz} (a versenyző válasza)\")  # Írjuk ki az eredményt"
      ],
      "metadata": {
        "id": "69gVl8IoGtPy"
      },
      "execution_count": null,
      "outputs": []
    },
    {
      "cell_type": "markdown",
      "source": [
        "##**4. feladat:** \n",
        "Írassa ki a képernyőre a helyes megoldást! A helyes megoldás alatti sorba „`+`” jelet tegyen,\n",
        "ha az adott feladatot az előző feladatban kiválasztott versenyző eltalálta, egyébként egy\n",
        "szóközt! A kiírást a mintának megfelelő módon alakítsa ki!\n",
        "\n",
        "```\n",
        "4. feladat:\n",
        "BCCCDBBBBCDAAA (a helyes megoldás)\n",
        "+ + + + (a versenyző helyes válaszai)\n",
        "```"
      ],
      "metadata": {
        "id": "msH1uKJYF1sN"
      }
    },
    {
      "cell_type": "code",
      "source": [
        "# Írjuk ki a feladat sorszámát\n",
        "print(\"4. feladat:\")\n",
        "\n",
        "# Írjuk ki a helyes megoldást\n",
        "print(f\"{megoldas} (a helyes megoldás)\")\n",
        "\n",
        "# Menjünk végig a helyes megoldás karakterein, ha megegyezik a válasz karakterável, akkor + jelet tegyünk\n",
        "for i in range(len(megoldas)):  \n",
        "  if megoldas[i] == valasz[i]:\n",
        "    print('+', end=\"\")\n",
        "  else:\n",
        "    print(end=\" \")\n",
        "\n",
        "# Végül írjuk ki a maradék szöveget\n",
        "print(\" (a versenyző helyes válaszai)\")"
      ],
      "metadata": {
        "id": "RtHuN_WlG0KS"
      },
      "execution_count": null,
      "outputs": []
    },
    {
      "cell_type": "markdown",
      "source": [
        "##**5. feladat:** \n",
        "Kérje be egy feladat sorszámát, majd határozza meg, hogy hány versenyző adott a feladatra\n",
        "helyes megoldást, és ez a versenyzők hány százaléka! A százalékos eredményt a mintának\n",
        "megfelelően, két tizedesjeggyel írassa ki!\n",
        "\n",
        "```\n",
        "5. feladat: A feladat sorszáma = 10\n",
        "A feladatra 111 fő, a versenyzők 36,63%-a adott helyes\n",
        "választ.\n",
        "```\n"
      ],
      "metadata": {
        "id": "bEOLkV1FF1zm"
      }
    },
    {
      "cell_type": "code",
      "source": [
        "# Kérjünk be egy sorszámot\n",
        "no = int(input(\"5. feladat: A feladat sorszáma = \"))\n",
        "\n",
        "# Menjünk végig a táblázaton, és az adott sorból, a válaszok közül keressük ki a bekért indexű elemet\n",
        "db = 0\n",
        "helyes_valasz = megoldas[no - 1]  # Az indexelés miatt egyet le kell vonni\n",
        "\n",
        "for i in range(len(tablazat)):\n",
        "  if tablazat[i][1][no - 1] == helyes_valasz: # 1. index a sor, a 2. az oszlop, a 3. pedig a karakterek\n",
        "    db += 1\n",
        "\n",
        "arany = round(db / hossz * 100, 2)\n",
        "# Írjuk ki a megoldást:\n",
        "print(f\"A feladatra {db} fő, a versenyzők {arany}%-a adott helyes választ.\")"
      ],
      "metadata": {
        "id": "BWKzIKweGH9B"
      },
      "execution_count": null,
      "outputs": []
    },
    {
      "cell_type": "markdown",
      "source": [
        "##**6. feladat:** \n",
        "A verseny feladatai nem egyenlő nehézségűek: az 1-5. feladat 3 pontot, a 6-10. feladat\n",
        "4 pontot, a 11-13. feladat 5 pontot, míg a 14. feladat 6 pontot ér. Határozza meg az egyes\n",
        "versenyzők pontszámát, és a listát írassa ki a *pontok.txt* nevű állományba! Az állomány\n",
        "minden sora egy versenyző kódját, majd szóközzel elválasztva az általa elért pontszámot\n",
        "tartalmazza!\n",
        "\n",
        "```\n",
        "6. feladat: A versenyzők pontszámának meghatározása\n",
        "```"
      ],
      "metadata": {
        "id": "07fXDuE7GKWS"
      }
    },
    {
      "cell_type": "code",
      "source": [
        "# Írjuk ki a feladat sorszámát\n",
        "print(\"6. feladat: A versenyzők pontszámának meghatározása\")\n",
        "\n",
        "# Hozzuk létre a pontok listáját\n",
        "pontok = []\n",
        "\n",
        "for i in range(len(megoldas)):\n",
        "  if i < 5:\n",
        "    pontok.append(3)\n",
        "  elif i < 10:\n",
        "    pontok.append(4)\n",
        "  elif i <13:\n",
        "    pontok.append(5)\n",
        "  else:\n",
        "    pontok.append(6)\n",
        "\n",
        "# print(pontok) # Ellenőrizzünk\n",
        "\n",
        "# Hozzuk létre a fájlt, amibe írni fogunk\n",
        "f = open(\"pontok.txt\", \"w\")\n",
        "\n",
        "#Menjünk végig a táblázat sorain, majd minden versenyző esetén vizsgáljuk meg a válaszokat\n",
        "pontszamok = []\n",
        "\n",
        "for i in range(len(tablazat)):  # Menjünk végig a táblázat sorain\n",
        "  versenyzo = tablazat[i][0]    # Mentsük ki az adott sorban lévő versenyző azonosítóját, valamint\n",
        "  valasz = tablazat[i][1]       # Az adott választ\n",
        "  pontszam = 0                  # a pontszámokat ebbe gyűjtjük, kiindulási értéke legyen 0\n",
        "\n",
        "  for j in range(len(valasz)):    #Menjünk végig a válasz string karakterein\n",
        "    if valasz[j] == megoldas[j]:  # Ha a válasz adott indexű karaktere megegyezik a helyes válasz adott indexű karakterével, akkor\n",
        "      pontszam += pontok[j]       # Adjuk az eddigi pontokhoz az aktuális feladathoz tartozó pontszámot\n",
        "\n",
        "  pontszamok.append(pontszam)           # Mentsük ki a pontszámokat (A következő feladathoz szükséges!)\n",
        "  f.write(f\"{versenyzo} {pontszam}\\n\")  # Írjuk a fáljba a kért adatokat\n",
        "\n",
        "f.close()   # Zárjuk be a fájlt"
      ],
      "metadata": {
        "id": "Lc1B5klip6Vo"
      },
      "execution_count": null,
      "outputs": []
    },
    {
      "cell_type": "markdown",
      "source": [
        "##**7. feladat:** \n",
        "A versenyen a három legmagasabb pontszámot elérő összes versenyzőt díjazzák. Például 5\n",
        "indulónál előfordulhat, hogy 3 első és 2 második díjat adnak ki. Így megtörténhet az is,\n",
        "hogy nem kerül sor mindegyik díj kiadására. Írassa ki a mintának megfelelően a képernyőre\n",
        "a díjazottak kódját és pontszámát pontszám szerint csökkenő sorrendben!\n",
        "\n",
        "```\n",
        "7. feladat: A verseny legjobbjai:\n",
        "1. díj (56 pont): JO001\n",
        "2. díj (52 pont): DG490\n",
        "2. díj (52 pont): UA889\n",
        "3. díj (49 pont): FX387\n",
        "```"
      ],
      "metadata": {
        "id": "HQ9thQ_PSXpV"
      }
    },
    {
      "cell_type": "code",
      "source": [
        "# Írjuk ki a feladatot\n",
        "print(\"7. feladat: A verseny legjobbjai:\")\n",
        "\n",
        "# Határozzuk meg az első három helyezett pontszámait\n",
        "sorrend = pontszamok[:]       # Csináljunk másolatot a pontszámokból, majd\n",
        "sorrend.sort(reverse=True)    # Tegyük csökkenő sorrendbe\n",
        "helyezes_pontok = []          # Ebbe a listába mentjük ki a díjazottak pontszámait\n",
        "\n",
        "for pont in sorrend:              # Menjünk végig a csökkenő sorrendű pontszámokon\n",
        "  if len(helyezes_pontok) == 3:       # Ha a helyes pontszámok listájában 3 elem szerepel,\n",
        "    break                               # Lépjünk ki\n",
        "  elif pont not in helyezes_pontok:   # Ha viszont az aktuális pont még nincs a listában, \n",
        "    helyezes_pontok.append(pont)        # Rendeljük hozzá\n",
        "\n",
        "#print(helyezes_pontok) # Ellenőrzés!\n",
        "\n",
        "for i in range(len(helyezes_pontok)):                                   # Menjünk végig a helyezésekhez tartozó pontok listáján\n",
        "  for j in range(len(pontszamok)):                                        # Minden pont esetében menjünk végig a pontszámokon.\n",
        "    if pontszamok[j] == sorrend[i]:                                         # Ha a helyezésért járó pontszám megegyzik a versenyző összpontszámával,\n",
        "      print(f\"{i+1}. díj ({helyezes_pontok[i]} pont): {tablazat[j][0]}\")      #  akkor írjuk ki a helyezést, a pontszámot, illetve a versenyző azonosítóját"
      ],
      "metadata": {
        "id": "0NJJNqqxSXpV"
      },
      "execution_count": null,
      "outputs": []
    }
  ]
}