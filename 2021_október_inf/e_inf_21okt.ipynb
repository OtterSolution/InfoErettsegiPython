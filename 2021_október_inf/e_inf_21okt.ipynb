{
  "nbformat": 4,
  "nbformat_minor": 0,
  "metadata": {
    "colab": {
      "name": "e_inf_21okt.ipynb",
      "provenance": [],
      "collapsed_sections": [],
      "authorship_tag": "ABX9TyNAAIzvgFe+MBm8LzV0ii+4",
      "include_colab_link": true
    },
    "kernelspec": {
      "name": "python3",
      "display_name": "Python 3"
    },
    "language_info": {
      "name": "python"
    }
  },
  "cells": [
    {
      "cell_type": "markdown",
      "metadata": {
        "id": "view-in-github",
        "colab_type": "text"
      },
      "source": [
        "<a href=\"https://colab.research.google.com/github/OtterSolution/InfoErettsegiPython/blob/main/2021_okt%C3%B3ber_inf/e_inf_21okt.ipynb\" target=\"_parent\"><img src=\"https://colab.research.google.com/assets/colab-badge.svg\" alt=\"Open In Colab\"/></a>"
      ]
    },
    {
      "cell_type": "markdown",
      "source": [
        "A sudoku egy logikai játék, melyben megadott szabályok szerint számjegyeket kell \n",
        "elhelyezni egy táblázatban. Ebben a feladatban 9×9-es táblázatot használunk.\n",
        "\n",
        "A táblázat – az alábbi ábrának megfelelően – 9 darab 3×3-as résztáblázatra van felosztva. \n",
        "Minden résztáblázatot az 1, 2, 3, 4, 5, 6, 7, 8, 9 számokkal kell kitölteni úgy, hogy az egész \n",
        "9×9-es táblázat minden sorában és minden oszlopában az 1...9 számok mindegyike pontosan \n",
        "egyszer forduljon elő. A rejtvény készítője előre ki szokta tölteni a táblázat bizonyos celláit. A \n",
        "rejtvényfejtő feladata kitölteni a maradék cellákat a leírt szabályoknak megfelelően. \n",
        "\n",
        "A bemenetet tartalmazó szövegfájlok első 9 sorának mindegyike 9 egész számot tartalmaz, \n",
        "a játék kiindulási állapotának megfelelően. A kitöltetlen mezők helyén a 0 szám olvasható. A \n",
        "következő néhány sorban a játékos egy-egy lehetséges kitöltési lépését rögzítették. Egy lépést \n",
        "három egész szám ír le: a számot, amelyet a játékos be akar írni, majd a sor és az oszlop számát, \n",
        "ahova írni szeretné. A bemeneti fájl egy-egy sorában a számokat egy-egy szóköz választja el \n",
        "egymástól. A táblázat ellentmondásmentes, tehát megoldható feladatot ír le. A játékos által \n",
        "megtett lépések száma legalább 1, legfeljebb 10, közöttük lehet hibás.\n",
        "\n",
        "Például: \n",
        "```\n",
        "0 0 0 0 0 0 0 0 6 \n",
        "0 0 7 0 0 0 2 0 0 \n",
        "3 8 9 5 0 0 0 0 0 \n",
        "6 0 0 0 0 0 7 0 0 \n",
        "1 2 8 4 9 0 0 3 0 \n",
        "0 0 0 0 0 0 0 0 9 \n",
        "0 5 1 0 0 0 0 4 0 \n",
        "0 0 0 0 0 3 0 9 1 \n",
        "0 0 0 0 8 0 0 0 0 \n",
        "9 2 4 \n",
        "1 2 1 \n",
        "5 9 9 \n",
        "7 2 2 \n",
        "```\n",
        "![image.png](data:image/png;base64,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)\n",
        "\n",
        "A fenti példában a nehez.txt bemeneti fájl tartalma látható. A 10. sorban szereplő számok \n",
        "azt jelentik, hogy a 9-es értéket kell a 2. sor 4. helyére beírni. Az adott sorban és az adott \n",
        "oszlopban nem szerepel még a 9-es, sőt, az érintett négyzetben sem, így a lépéssel nem alakul \n",
        "ki hiba, megtehető. A 11. sorbeli lépés is megtehető. A 13. sor hibás lépést tartalmaz, mert a 2. \n",
        "sorban már szerepel a 7-es szám. \n",
        "\n",
        "A jobb oldalon látható képen a körbe írt számok megadják, hogy az egyes 3×3 méretű \n",
        "résztáblákat milyen számmal azonosítjuk. \n",
        "\n",
        "Készítsen programot, amely a bemeneti állományok egyikét felhasználva (*konnyu.txt, \n",
        "kozepes.txt, nehez.txt*) az alábbi kérdésekre válaszol! A program forráskódját mentse \n",
        "sudoku néven! (A program megírásakor a felhasználó által megadott adatok helyességét, \n",
        "érvényességét nem kell ellenőriznie, feltételezheti, hogy a rendelkezésre álló adatok a \n",
        "leírtaknak megfelelnek.) \n",
        "\n",
        "A képernyőre írást igénylő részfeladatok eredményének megjelenítése előtt írja a képernyőre \n",
        "a feladat sorszámát (például: 4. feladat)! Ha a felhasználótól kér be adatot, jelenítse meg a \n",
        "képernyőn, hogy milyen értéket vár! Az ékezetmentes kiírás is elfogadott. "
      ],
      "metadata": {
        "id": "7NJH-S90EkVL"
      }
    },
    {
      "cell_type": "markdown",
      "source": [
        "##**Példa a szöveges kimenetek kialakításához:**\n",
        "```\n",
        "1. feladat \n",
        "Adja meg a bemeneti fájl nevét! konnyu.txt \n",
        "Adja meg egy sor számát! 1 \n",
        "Adja meg egy oszlop számát! 1 \n",
        "3. feladat \n",
        "Az adott helyen szereplő szám: 5 \n",
        "A hely a(z) 1 résztáblázathoz tartozik. \n",
        "4. feladat \n",
        "Az üres helyek aránya: 17.3% \n",
        "5. feladat \n",
        "A kiválasztott sor: 2 oszlop: 4 a szám: 9 \n",
        "A helyet már kitöltötték. \n",
        "A kiválasztott sor: 3 oszlop: 6 a szám: 7 \n",
        "A lépés megtehető. \n",
        "A kiválasztott sor: 6 oszlop: 6 a szám: 3 \n",
        "A résztáblázatban már szerepel a szám. \n",
        "A kiválasztott sor: 7 oszlop: 9 a szám: 8 \n",
        "Az adott oszlopban már szerepel a szám. \n",
        "```"
      ],
      "metadata": {
        "id": "h68gGNxKGUJv"
      }
    },
    {
      "cell_type": "markdown",
      "source": [
        "##**1. feladat:** \n",
        "Olvassa be egy fájl nevét, egy sor és egy oszlop sorszámát (1 és 9 közötti számot)! \n",
        "\n",
        "A későbbi feladatokat ezen értékek felhasználásával kell megoldania! \n",
        "\n",
        "```\n",
        "1. feladat \n",
        "Adja meg a bemeneti fájl nevét! konnyu.txt \n",
        "Adja meg egy sor számát! 1 \n",
        "Adja meg egy oszlop számát! 1 \n",
        "\n",
        "```"
      ],
      "metadata": {
        "id": "r1RvemOtFlFj"
      }
    },
    {
      "cell_type": "code",
      "source": [
        "# Írjuk ki a feladat sorszámát\n",
        "print(\"1. feladat\")\n",
        "\n",
        "# Kérjük be a fájl nevét\n",
        "fajl = input(\"Adja meg a bemeneti fájl nevét! \")\n",
        "\n",
        "# Kérjük be a sor számát\n",
        "n_sor = int(input(\"Adja meg egy sor számát! \")) - 1\n",
        "\n",
        "# Kérjük be az oszlop számát\n",
        "n_oszlop = int(input(\"Adja meg egy oszlop számát! \")) - 1"
      ],
      "metadata": {
        "id": "cBfH8zRTFXsN",
        "colab": {
          "base_uri": "https://localhost:8080/"
        },
        "outputId": "69e799c7-1768-4bcd-b009-18c617063853"
      },
      "execution_count": 17,
      "outputs": [
        {
          "name": "stdout",
          "output_type": "stream",
          "text": [
            "1. feladat\n",
            "Adja meg a bemeneti fájl nevét! konnyu.txt\n",
            "Adja meg egy sor számát! 9\n",
            "Adja meg egy oszlop számát! 9\n"
          ]
        }
      ]
    },
    {
      "cell_type": "markdown",
      "source": [
        "##**2. feladat:** \n",
        "Az előző feladatban beolvasott névnek megfelelő fájl tartalmát olvassa be, és tárolja el a \n",
        "táblázat adatait! Ha ezt nem tudja megtenni, akkor használja forrásként a rendelkezésre álló \n",
        "állományok egyikét! \n"
      ],
      "metadata": {
        "id": "0mUBlGBHF1Xm"
      }
    },
    {
      "cell_type": "code",
      "source": [
        "# Nyissuk meg a fájlt\n",
        "f = open(fajl)\n",
        "adat = f.read()\n",
        "\n",
        "# Bontsuk fel az adatot sortörésenként\n",
        "adat_lista = adat.split(\"\\n\")\n",
        "# print(adat_lista) # ellenőrizzük\n",
        "\n",
        "# Bontsuk fel a táblára és a lépésekre\n",
        "tabla_nyers = adat_lista[:9] # az első 9 sor lesz a tálba\n",
        "lepesek_nyers = adat_lista[9:-1] # a továbbiak a lépések (az utolsót kihagyjuk, mert az egy üres string)\n",
        "\n",
        "# Bontsuk tovább a táblát\n",
        "tabla = []\n",
        "\n",
        "for i in range(len(tabla_nyers)):\n",
        "  sor = tabla_nyers[i].split()\n",
        "  tabla.append(sor)\n",
        "\n",
        "#print(tabla[-3:])\n",
        "\n",
        "# Bontsuk fel a lépéseket is\n",
        "lepesek = []\n",
        "\n",
        "for i in range(len(lepesek_nyers)):\n",
        "  sor = lepesek_nyers[i].split()\n",
        "  lepesek.append(sor)\n",
        "\n",
        "#print(lepesek)"
      ],
      "metadata": {
        "id": "YQLCyl7yGlux"
      },
      "execution_count": 45,
      "outputs": []
    },
    {
      "cell_type": "markdown",
      "source": [
        "##**3. feladat:** \n",
        " Írja ki a képernyőre, hogy a beolvasott sor és oszlop értékének megfelelő hely… \n",
        "  1. milyen értéket tartalmaz! Ha az adott helyen a 0 olvasható, akkor az „Az adott \n",
        "helyet még nem töltötték ki.” szöveget jelenítse meg! \n",
        "  2. melyik résztáblázathoz tartozik! \n",
        "```\n",
        "3. feladat \n",
        "Az adott helyen szereplő szám: 5 \n",
        "A hely a(z) 1 résztáblázathoz tartozik.\n",
        "```"
      ],
      "metadata": {
        "id": "ryapDyVWF1jZ"
      }
    },
    {
      "cell_type": "code",
      "source": [
        "# Írjuk ki a feladat sorszámát\n",
        "print(\"3. feladat\")\n",
        "\n",
        "### 1. alfeladat ###\n",
        "szam = tabla[n_sor][n_oszlop]\n",
        "print(f\"Az adott helyen szereplő szám: {szam}\")\n",
        "\n",
        "### 2. alfeladat ###\n",
        "# Számoljuk ki, hogy melyik résztáblába tartoik\n",
        "resztabla = n_sor // 3 * 3  + n_oszlop // 3 + 1\n",
        "\n",
        "# Majd írjuk ki\n",
        "print(f\"A hely a(z) {resztabla} résztáblázathoz tartozik.\")"
      ],
      "metadata": {
        "id": "69gVl8IoGtPy",
        "colab": {
          "base_uri": "https://localhost:8080/"
        },
        "outputId": "077ca867-6c90-4687-9948-a121cff5d04b"
      },
      "execution_count": 19,
      "outputs": [
        {
          "output_type": "stream",
          "name": "stdout",
          "text": [
            "3. feladat\n",
            "Az adott helyen szereplő szám: 6\n",
            "A hely a(z) 9 résztáblázathoz tartozik.\n"
          ]
        }
      ]
    },
    {
      "cell_type": "markdown",
      "source": [
        "##**4. feladat:** \n",
        "Határozza meg a táblázat hány százaléka nincs még kitöltve! Az eredményt egy tizedesjegy \n",
        "pontossággal jelenítse meg a képernyőn! \n",
        "\n",
        "```\n",
        "4. feladat \n",
        "Az üres helyek aránya: 17.3% \n",
        "```"
      ],
      "metadata": {
        "id": "msH1uKJYF1sN"
      }
    },
    {
      "cell_type": "code",
      "source": [
        "# Írjuk ki a feladat sorszámát\n",
        "print(\"4. feladat\")\n",
        "\n",
        "# Ebbe a változóba mentjük az üres helek számát\n",
        "ures = 0\n",
        "\n",
        "# Menjünk végig a táblázat sorain, majd a sorok elemein\n",
        "for i in range(9):\n",
        "  for j in range(9):\n",
        "    if tabla[i][j] == '0':  # Ha az adott elem '0', akkor\n",
        "      ures += 1             # Növeljük az üres helyek számát eggyel\n",
        "\n",
        "osszes = 9 * 9                        # Az összes mező száma 9 x 9\n",
        "arany = round(ures / osszes *100, 1)  # Számoljuk ki az arányt\n",
        "\n",
        "print(f\"Az üres helyek aránya: {arany}% \")  # Írjuk ki az eredményt"
      ],
      "metadata": {
        "id": "RtHuN_WlG0KS",
        "colab": {
          "base_uri": "https://localhost:8080/"
        },
        "outputId": "a44225f7-3fa0-42e6-9251-e680676620dc"
      },
      "execution_count": 20,
      "outputs": [
        {
          "output_type": "stream",
          "name": "stdout",
          "text": [
            "4. feladat\n",
            "Az üres helyek aránya: 17.3% \n"
          ]
        }
      ]
    },
    {
      "cell_type": "markdown",
      "source": [
        "##**5. feladat:** \n",
        " Vizsgálja meg, hogy a fájlban szereplő lépések lehetségesek-e a beolvasott táblázaton! \n",
        "Tekintse mindegyiket úgy, mintha az lenne az egyetlen lépés az eredeti táblázaton, de ne \n",
        "hajtsa azt végre! Állapítsa meg, hogy okoz-e valamilyen ellentmondást a lépés végrehajtása! \n",
        "Írja ki a lépéshez tartozó három értéket, majd a következő sorba írja az alábbi \n",
        "megállapítások egyikét! Ha több megállapítás is igaz, elegendő csak egyet megjelenítenie. \n",
        "* „A helyet már kitöltötték”\n",
        "* „Az adott sorban már szerepel a szám”\n",
        "* „Az adott oszlopban már szerepel a szám”\n",
        "* „Az adott résztáblázatban már szerepel a szám”\n",
        "* „A lépés megtehető”\n",
        "\n",
        "```\n",
        "5. feladat \n",
        "A kiválasztott sor: 2 oszlop: 4 a szám: 9 \n",
        "A helyet már kitöltötték. \n",
        "A kiválasztott sor: 3 oszlop: 6 a szám: 7 \n",
        "A lépés megtehető. \n",
        "A kiválasztott sor: 6 oszlop: 6 a szám: 3 \n",
        "A résztáblázatban már szerepel a szám. \n",
        "A kiválasztott sor: 7 oszlop: 9 a szám: 8 \n",
        "Az adott oszlopban már szerepel a szám. \n",
        "```\n"
      ],
      "metadata": {
        "id": "bEOLkV1FF1zm"
      }
    },
    {
      "cell_type": "code",
      "source": [
        "for lepes in lepesek:           # Menjünk végig a lépéseket tartalmazó sorokon\n",
        "  szam = lepes[0]                 # Az első elem a szám\n",
        "  sor = int(lepes[1]) - 1         # a második a sor --> ebből számoljuk az indexet\n",
        "  oszlop = int(lepes[2]) - 1      # a harmadik az oszlop --> ebből számoljuk az indexet\n",
        "\n",
        "  print(f\"A kiválasztott sor: {sor + 1} oszlop: {oszlop + 1} a szám: {szam} \")  #Írjuk ki a feladatnak megfelelően a lépést\n",
        "\n",
        "  #Vegyük sorra a lehetséges eseteket:\n",
        "  eset = 0\n",
        "\n",
        "  # A helyet már kitöltötték:\n",
        "  if tabla[sor][oszlop] != '0': # Ha az adott sor, adott oszlopában a szám nem nulla, akkor\n",
        "    eset = 1                      # A helyet kitöltötték --> 1. eset\n",
        "\n",
        "  # Az adott sorban szerepel a szám:    \n",
        "  if eset == 0 and szam in tabla[sor]:  # Ha az előző eset nem következett be, illetve az adott szám eleme a sor listájának\n",
        "    eset = 2                                # Az adott sorban szerepel a szám --> 2. eset\n",
        "\n",
        "  # Az adott oszlopban szerepel a szám:\n",
        "  for i in range(len(tabla)):                     # Menjünk végig az oszlopokon\n",
        "    if eset == 0 and tabla[i][oszlop] == szam:     # Ha a korábbi esetek nem következtek be, illetve az adott oszlop bármelyik sorában megtalálható a szám, akkor\n",
        "      eset = 3                                        # Az adott oszlopban szerepel a szám -->3. eset\n",
        "\n",
        "  # Az adott résztáblázatban szerepel a szám:\n",
        "  resztabla = (sor // 3 ) * 3  + oszlop // 3 + 1    # Nézzük meg, hogy melyik résztáblába szeretne beírni\n",
        "\n",
        "  for i in range(len(tabla)):                       # Menjünk végig minden soron, azon belül\n",
        "    for j in range(len(tabla)):                       # Minden oszlopon\n",
        "      if resztabla == (i // 3 ) * 3  + j // 3 + 1:      # Ha elérkezünk a kívánt résztáblához, és azon belül\n",
        "        if tabla[i][j] == szam  and eset == 0:            # A korábbi esetek nem következtek be, illetve itt található a szám, akkor\n",
        "          eset = 4                                          #Az adott résztáblában szerepel a szám --> 4. eset\n",
        "\n",
        "  # Esetek következményei - írjuk ki a feladatban leírtak szerint:\n",
        "  if eset == 1:\n",
        "    print(\"A helyet már kitöltötték.\")\n",
        "  elif eset == 2:\n",
        "    print(\"Az adott sorban már szerepel a szám.\")\n",
        "  elif eset == 3:\n",
        "    print(\"Az adott oszlopban már szerepel a szám.\")\n",
        "  elif eset == 4:\n",
        "    print(\"Az adott résztáblázatban már szerepel a szám.\")\n",
        "  else:\n",
        "    print(\"A lépés megtehető.\")"
      ],
      "metadata": {
        "id": "BWKzIKweGH9B",
        "colab": {
          "base_uri": "https://localhost:8080/"
        },
        "outputId": "1fe7accb-e472-4962-bb3b-2d99e3f7fd2e"
      },
      "execution_count": 44,
      "outputs": [
        {
          "output_type": "stream",
          "name": "stdout",
          "text": [
            "A kiválasztott sor: 2 oszlop: 4 a szám: 9 \n",
            "A helyet már kitöltötték.\n",
            "A kiválasztott sor: 3 oszlop: 6 a szám: 7 \n",
            "A lépés megtehető.\n",
            "A kiválasztott sor: 6 oszlop: 6 a szám: 3 \n",
            "Az adott résztáblázatban már szerepel a szám.\n",
            "A kiválasztott sor: 7 oszlop: 9 a szám: 8 \n",
            "Az adott oszlopban már szerepel a szám.\n"
          ]
        }
      ]
    }
  ]
}