{
  "nbformat": 4,
  "nbformat_minor": 0,
  "metadata": {
    "colab": {
      "name": "GyakorlóFeladatok.ipynb",
      "provenance": [],
      "authorship_tag": "ABX9TyOltzhabQVCX2udOulwsKdE",
      "include_colab_link": true
    },
    "kernelspec": {
      "name": "python3",
      "display_name": "Python 3"
    },
    "language_info": {
      "name": "python"
    }
  },
  "cells": [
    {
      "cell_type": "markdown",
      "metadata": {
        "id": "view-in-github",
        "colab_type": "text"
      },
      "source": [
        "<a href=\"https://colab.research.google.com/github/OtterSolution/InfoErettsegiPython/blob/main/Gyakorl%C3%A1s/Gyakorl%C3%B3Feladatok-megold%C3%A1sok(r%C3%A9szlet).ipynb\" target=\"_parent\"><img src=\"https://colab.research.google.com/assets/colab-badge.svg\" alt=\"Open In Colab\"/></a>"
      ]
    },
    {
      "cell_type": "markdown",
      "source": [
        "#**1. Fájlok beolvasása**"
      ],
      "metadata": {
        "id": "E0XLprvLngqe"
      }
    },
    {
      "cell_type": "markdown",
      "source": [
        "##***1.1. feladat***\n",
        "Olvasd be *gyomolcsok.txt* fájlt, és tárold az adatait. Írasd ki hány bejegyzést tartalmazott a fájl!"
      ],
      "metadata": {
        "id": "3yXgf9m4sqTU"
      }
    },
    {
      "cell_type": "code",
      "source": [
        "f = open(\"gyomulcsok.txt\")\n",
        "adat = f.read()\n",
        "f.close()\n",
        "\n",
        "lista = adat.split(\"\\n\")\n",
        "\n",
        "tablazat = []\n",
        "\n",
        "for i in range(len(lista)):\n",
        "  sor = lista[i].split(\" \")\n",
        "  tablazat.append(sor)\n",
        "\n",
        "tablazat.pop()\n",
        "print(tablazat[-3:])"
      ],
      "metadata": {
        "id": "_QHoGxdGnkjc",
        "colab": {
          "base_uri": "https://localhost:8080/"
        },
        "outputId": "160ebba1-73d7-469b-ceb6-a828c1341a2e"
      },
      "execution_count": 2,
      "outputs": [
        {
          "output_type": "stream",
          "name": "stdout",
          "text": [
            "[['alma', '9', '18:44', 'RO'], ['alma', '2', '9:59', 'SK'], ['körte', '10', '13:7', 'HU']]\n"
          ]
        }
      ]
    },
    {
      "cell_type": "markdown",
      "source": [
        "##***1.2. feladat***\n",
        "Olvasd be a *gyumolcsok2.txt* fájlt és egy új változóban tárold az adatait!"
      ],
      "metadata": {
        "id": "fhrMdGNns9B5"
      }
    },
    {
      "cell_type": "code",
      "source": [
        "f = open(\"gyomulcsok2.txt\")\n",
        "adat = f.read()\n",
        "f.close()\n",
        "\n",
        "lista = adat.split(\"\\n\")\n",
        "\n",
        "tablazat2 = []\n",
        "sor = []\n",
        "\n",
        "for i in range(len(lista)):\n",
        "  if len(sor) < 4:\n",
        "    sor.append(lista[i])\n",
        "  else:\n",
        "    tablazat2.append(sor)\n",
        "    sor = []\n",
        "\n",
        "print(tablazat2[-3:])"
      ],
      "metadata": {
        "id": "tU60EU2XpNa4",
        "colab": {
          "base_uri": "https://localhost:8080/"
        },
        "outputId": "0c6419db-6544-4acf-8591-663a7edc9e0b"
      },
      "execution_count": 3,
      "outputs": [
        {
          "output_type": "stream",
          "name": "stdout",
          "text": [
            "[['RO', 'barack', '8', '13:17'], ['körte', '4', '15:10', 'HU'], ['7', '10:29', 'SK', 'barack']]\n"
          ]
        }
      ]
    },
    {
      "cell_type": "markdown",
      "source": [
        "##***1.3. feladat***\n",
        "Olvasd be a *gyumolcsok3.txt* fájlt és egy új változóban tárold az adatait! Írd ki, hogy hány vásárlás történt!\n",
        "\n",
        "Például:\n",
        "```\n",
        "Összesen 59 vásárlás történt\n",
        "```"
      ],
      "metadata": {
        "id": "kojUDQITtGp7"
      }
    },
    {
      "cell_type": "code",
      "source": [
        "f = open(\"gyomulcsok3.txt\")\n",
        "adat = f.read()\n",
        "f.close()\n",
        "\n",
        "lista = adat.split(\"\\n\")\n",
        "\n",
        "tablazat3 = []\n",
        "sor = []\n",
        "\n",
        "for i in range(len(lista)):\n",
        "  if lista[i] != \"%%\":\n",
        "    sor.append(lista[i])\n",
        "  else:\n",
        "    tablazat3.append(sor)\n",
        "    sor = []\n",
        "\n",
        "print(tablazat3[-1])"
      ],
      "metadata": {
        "id": "HbJLngfSpWvI",
        "colab": {
          "base_uri": "https://localhost:8080/"
        },
        "outputId": "96d5e5d9-726d-4a09-a8ec-203244dc0ec3"
      },
      "execution_count": 8,
      "outputs": [
        {
          "output_type": "stream",
          "name": "stdout",
          "text": [
            "['dinnye', 'barack', 'áfonya', 'alma', 'körte', 'barack', 'körte', 'dinnye', 'körte', 'alma', 'alma']\n"
          ]
        }
      ]
    },
    {
      "cell_type": "markdown",
      "source": [
        "#**2. Függvények**"
      ],
      "metadata": {
        "id": "_p77r7EOv9lM"
      }
    },
    {
      "cell_type": "markdown",
      "source": [
        "##***2.1. feladat***\n",
        "Hozz létre egy függvényt *abszolut* néven. A függvény adja vissza egy adott szám abszolút értékét! Végezd el ezeket a következő számokra: `-15, 2, 36, -48`"
      ],
      "metadata": {
        "id": "WT-DdVJrwD0J"
      }
    },
    {
      "cell_type": "code",
      "source": [
        "#Megoldás..."
      ],
      "metadata": {
        "id": "BPFbOmWYqXyf"
      },
      "execution_count": null,
      "outputs": []
    },
    {
      "cell_type": "markdown",
      "source": [
        "##***2.2. feladat***\n",
        "Hozz létre egy függvényt *stringhossz* néven, ami visszaadja egy testszőleges szöveges változó hosszát!"
      ],
      "metadata": {
        "id": "-dVaV1BWwShb"
      }
    },
    {
      "cell_type": "code",
      "source": [
        "#Megoldás..."
      ],
      "metadata": {
        "id": "qek9VV1ewtoM"
      },
      "execution_count": null,
      "outputs": []
    },
    {
      "cell_type": "markdown",
      "source": [
        "##***2.3. feladat***\n",
        "Hozz létre egy függvényt *matek* néven, ami \n",
        "* 3-mat ad vissza, ha a szám osztható 2-vel és 3-mal is,\n",
        "* 2-t ad vissza ha csak hárommal osztható és 2-vel nem,\n",
        "* 1-et ad vissza, ha csak kettővel osztható, de 3-mal nem,\n",
        "* 0-t ad vissza, ha kettővel sem és hárommal sem osztható"
      ],
      "metadata": {
        "id": "uC7XiS2XwuPO"
      }
    },
    {
      "cell_type": "code",
      "source": [
        "#Megoldás..."
      ],
      "metadata": {
        "id": "im6iVlP5xbkA"
      },
      "execution_count": null,
      "outputs": []
    },
    {
      "cell_type": "markdown",
      "source": [
        "##***2.4. feladat***\n",
        "Hozz létre egy függvényt *ar* néven. A függvény kérje be a gyümölcs nevét, és adja vissza az árát. A gyümölcsök árai:\n",
        "* alma: 108\n",
        "* körte: 136\n",
        "* barack: 195\n",
        "* dinnye: 965\n",
        "* áfonya: 687"
      ],
      "metadata": {
        "id": "qNHq5mVC-x7_"
      }
    },
    {
      "cell_type": "code",
      "source": [
        "def ar(gyumolcs):\n",
        "  if gyumolcs == \"alma\":\n",
        "    kts = 108\n",
        "  elif gyumolcs == \"körte\":\n",
        "    kts = 136\n",
        "  elif gyumolcs == \"barack\":\n",
        "    kts = 195\n",
        "  elif gyumolcs == \"dinnye\":\n",
        "    kts = 965\n",
        "  elif gyumolcs == \"áfonya\":\n",
        "    kts = 687\n",
        "\n",
        "  return kts"
      ],
      "metadata": {
        "id": "4F3Sl6eA_fbv"
      },
      "execution_count": 42,
      "outputs": []
    },
    {
      "cell_type": "code",
      "source": [
        "ar(\"alma\")"
      ],
      "metadata": {
        "colab": {
          "base_uri": "https://localhost:8080/"
        },
        "id": "UbE2RpV-9IsB",
        "outputId": "b6560172-e4b2-43e1-db59-ed131bdd8723"
      },
      "execution_count": 28,
      "outputs": [
        {
          "output_type": "execute_result",
          "data": {
            "text/plain": [
              "108"
            ]
          },
          "metadata": {},
          "execution_count": 28
        }
      ]
    },
    {
      "cell_type": "markdown",
      "source": [
        "#**3. Aggregálás**"
      ],
      "metadata": {
        "id": "9D8m644oxh98"
      }
    },
    {
      "cell_type": "markdown",
      "source": [
        "Első lépésben egyedi lista létrehozása:\n",
        "\n",
        "```\n",
        "egyedi_lista = []\n",
        "\n",
        "for i in range(len(eredeti_lista)):\n",
        "  elem = eredeti_lista(adott_eleme)\n",
        "\n",
        "  if elem not in egyedi_lista:\n",
        "    egyedi_lista.append(elem)\n",
        "\n",
        "```\n",
        "\n",
        "***VAGY***\n",
        "\n",
        "\n",
        "`egyedi_lista = list(set(eredeti_lista))`\n"
      ],
      "metadata": {
        "id": "gHUcl3b_xlob"
      }
    },
    {
      "cell_type": "markdown",
      "source": [
        "##***3.1. feladat***\n",
        "Használd a *gyumolcsok.txt* fájl adatait. Hozz létre egy fájlt, *vasarlas* néven és írd bele, hogy melyik gyümölcsből mennyit vásároltak, szóközzel elválasztva!\n",
        "\n",
        "Például:\n",
        "```\n",
        "alma 362\n",
        "körte 215\n",
        "...\n",
        "```"
      ],
      "metadata": {
        "id": "QnBvRVGv30cE"
      }
    },
    {
      "cell_type": "code",
      "source": [
        "#Megoldás..."
      ],
      "metadata": {
        "id": "CB2C9eAr9NHO"
      },
      "execution_count": null,
      "outputs": []
    },
    {
      "cell_type": "markdown",
      "source": [
        "##***3.2. feladat***\n",
        "Használd a *gyomulcsok.txt* fájl adatait. Hozz létre egy fáljt *orszagok* néven és írd bele, hogy melyik országból mennyi gyömülcs érkezett! Az ország neve és a darabszám között használj tabulátort.\n",
        "\n",
        "Például:\n",
        "```\n",
        "HU   398\n",
        "SLO  65\n",
        "...\n",
        "```"
      ],
      "metadata": {
        "id": "ppbkAQVH3zXD"
      }
    },
    {
      "cell_type": "code",
      "source": [
        "orszagok = []\n",
        "\n",
        "for i in range(len(tablazat)):\n",
        "  orszag = tablazat[i][-1]\n",
        "  if orszag not in orszagok:\n",
        "    orszagok.append(orszag)\n",
        "\n",
        "f = open(\"orszagok.txt\", \"w\")\n",
        "\n",
        "for orszag in orszagok:\n",
        "  db = 0\n",
        "\n",
        "  for i in range(len(tablazat)):\n",
        "    if tablazat[i][-1] == orszag:\n",
        "      db += int(tablazat[i][1])\n",
        "\n",
        "  f.write(f\"{orszag}\\t{db}\\n\")\n",
        "f.close()"
      ],
      "metadata": {
        "id": "9mnXJqb19MmI"
      },
      "execution_count": 10,
      "outputs": []
    },
    {
      "cell_type": "markdown",
      "source": [
        "##***3.3. feladat***\n",
        "Használd a *gyomulcsok.txt* fájl adatait. Írasd ki, hogy az egyes gyümölcsöket milyen arányban vásárolták! Az arányokat százalékos formában, egy tizedesjegyre kerekítve add meg! Az elválasztáshoz használj tabulátort!\n",
        "\n",
        "Például:\n",
        "```\n",
        "alma:  18.1%\n",
        "körte: 9.0%\n",
        "banán  11.9%\n",
        "...\n",
        "```"
      ],
      "metadata": {
        "id": "xxVQ0q8U9J9M"
      }
    },
    {
      "cell_type": "code",
      "source": [
        "gyumolcsok = []\n",
        "\n",
        "for i in range(len(tablazat)):\n",
        "  gyumolcs = tablazat[i][0]\n",
        "  if gyumolcs not in gyumolcsok:\n",
        "    gyumolcsok.append(gyumolcs)\n",
        "\n",
        "osszes = 0\n",
        "for i in range(len(tablazat)):\n",
        "  osszes += int(tablazat[i][1])\n",
        "\n",
        "for gyumolcs in gyumolcsok:\n",
        "  db = 0\n",
        "  for i in range(len(tablazat)):\n",
        "    if tablazat[i][0] == gyumolcs:\n",
        "      db += int(tablazat[i][1])\n",
        "\n",
        "  arany = round(db / osszes*100, 1)\n",
        "  print(f\"{gyumolcs}\\t{arany}%\")\n"
      ],
      "metadata": {
        "id": "EK94qFNd_XKX",
        "colab": {
          "base_uri": "https://localhost:8080/"
        },
        "outputId": "fecfaf93-6a17-4593-c76c-04572dee1886"
      },
      "execution_count": 14,
      "outputs": [
        {
          "output_type": "stream",
          "name": "stdout",
          "text": [
            "dinnye\t19.3%\n",
            "körte\t16.0%\n",
            "alma\t22.4%\n",
            "áfonya\t21.1%\n",
            "barack\t21.2%\n"
          ]
        }
      ]
    },
    {
      "cell_type": "markdown",
      "source": [
        "#**4. Keresés**"
      ],
      "metadata": {
        "id": "3x8Mibdl5ih4"
      }
    },
    {
      "cell_type": "markdown",
      "source": [
        "##***4.1. feladat***\n",
        "Használd a *gyumolcsok.txt* adatait. Írasd ki, hogy \n",
        "* melyik gyömölcsöt vásárolták a legkorábban,\n",
        "* melyiket legkésőbb,\n",
        "* illetve, hogy ezeket melyik országból vásárolták\n",
        "\n",
        "Például:\n",
        "\n",
        "```\n",
        "A legkorábban 9:00.kor vásároltak. Ekkor alma-t vettek, ami HU országkóddal van ellátva.\n",
        "A legkésőbb 17:59-kor vásároltak. Ekkor körte-t vettek, ami SLO országkóddal van ellátva.\n",
        "```\n",
        "\n",
        "\n"
      ],
      "metadata": {
        "id": "CIedbpUX5nSM"
      }
    },
    {
      "cell_type": "code",
      "source": [
        "#Megoldás..."
      ],
      "metadata": {
        "id": "fa07j1T-_WTW"
      },
      "execution_count": null,
      "outputs": []
    },
    {
      "cell_type": "markdown",
      "source": [
        "##***4.2. feladat***\n",
        "Használd a gyumolcsok.txt adatait. Kérj be egy országkódot! Határozd meg, hogy hány alkalommal vásároltak ebből az országból származó terméket!\n",
        "\n",
        "Például:\n",
        "\n",
        "\n",
        "\n",
        "\n",
        "```\n",
        "Országkód: HU\n",
        "HU országkóddal ellátott terméket 96 alkalommal vásároltak.\n",
        "```\n",
        "\n"
      ],
      "metadata": {
        "id": "qAEE6J7R6ZmH"
      }
    },
    {
      "cell_type": "code",
      "source": [
        "#Megoldás..."
      ],
      "metadata": {
        "id": "JpnkmPU8_Vpp"
      },
      "execution_count": null,
      "outputs": []
    },
    {
      "cell_type": "markdown",
      "source": [
        "##***4.3. feladat***\n",
        "Használd a gyumolcsok.txt adatait. Kérj be egy országkódot és egy gyümölcsöt! Határozd meg, hogy mikor vásároltak ezekből!\n",
        "\n",
        "Például:\n",
        "```\n",
        "Országkód: SLO\n",
        "Gyümölcs: banán\n",
        "SLO-ból banánt az alábbi időpontokban vásároltak:\n",
        "17:02\n",
        "18:57\n",
        "9:24\n",
        "10:15\n",
        "...\n",
        "```"
      ],
      "metadata": {
        "id": "mWkoxoLE7LDt"
      }
    },
    {
      "cell_type": "code",
      "source": [
        "orszag = input(\"Országkód: \")\n",
        "gyumolcs = input(\"Gyumolcs: \")\n",
        "\n",
        "print(f\"{orszag}-ból {gyumolcs}-t az alábbi időpontokban vásároltak:\")\n",
        "\n",
        "for i in range(len(tablazat)):\n",
        "  if tablazat[i][0] == gyumolcs and tablazat[i][-1] == orszag:\n",
        "    ido = tablazat[i][2]\n",
        "    print(ido)"
      ],
      "metadata": {
        "id": "bPr6O4Zc_Ud-",
        "colab": {
          "base_uri": "https://localhost:8080/"
        },
        "outputId": "f1576f60-d4db-4413-b88d-a084ec94f87a"
      },
      "execution_count": 18,
      "outputs": [
        {
          "output_type": "stream",
          "name": "stdout",
          "text": [
            "Országkód: A\n",
            "Gyumolcs: alma\n",
            "A-ból alma-t az alábbi időpontokban vásároltak:\n",
            "11:27\n",
            "10:16\n",
            "18:20\n",
            "11:57\n",
            "16:22\n",
            "10:42\n"
          ]
        }
      ]
    },
    {
      "cell_type": "markdown",
      "source": [
        "##***4.4 feladat***\n",
        "Használd a gyumolcsok.txt adatait. Kérj be eg időpontot! Ha az adott időpontban történt vásárlás, írd ki, hogy milyen terméket és melyik országból vettek. Ha nem, írd ki, hogy \"ebben az időpontban nem történt vásárlás\"\n",
        "Például:\n",
        "```\n",
        "Időpont: 15:23\n",
        "Ebben az időpontban alma-t vettek HU-ból.\n",
        "```"
      ],
      "metadata": {
        "id": "Yz_OW-IU7yPB"
      }
    },
    {
      "cell_type": "code",
      "source": [
        "ido = input(\"Időpont: \")\n",
        "\n",
        "gyumolcs = \"\"\n",
        "\n",
        "for i in range(len(tablazat)):\n",
        "  if tablazat[i][2] == ido:\n",
        "    gyumolcs = tablazat[i][0]\n",
        "    orszag = tablazat[i][-1]\n",
        "\n",
        "    print(f\"Ebben az időpontban {gyumolcs}-t vettek {orszag}-ból.\")\n",
        "    break\n",
        "\n",
        "if gyumolcs == \"\":\n",
        "  print(\"Ebben az időpontban nem történt vásárlás\")"
      ],
      "metadata": {
        "id": "SEr60Z6a_TWk",
        "colab": {
          "base_uri": "https://localhost:8080/"
        },
        "outputId": "234c6384-c83b-47fb-bc06-139b0e800a5c"
      },
      "execution_count": 22,
      "outputs": [
        {
          "output_type": "stream",
          "name": "stdout",
          "text": [
            "Időpont: 9:38\n",
            "Ebben az időpontban körte-t vettek HU-ból.\n"
          ]
        }
      ]
    },
    {
      "cell_type": "markdown",
      "source": [
        "##***4.5. feladat***\n",
        "Használd a *gyumolcsok3.txt* fájl adatait. Kérj be egy sorszámot. A korábban létrehozott ***ar*** függvény segítségével határozd meg, hogy mennyit fizettek a vásárlás során!\n",
        "\n",
        "Például:\n",
        "```\n",
        "A vásárlás sorszáma: 1\n",
        "A termékekért 2351 Ft-ot fizettek.\n",
        "```"
      ],
      "metadata": {
        "id": "VoPdBvNq_s_J"
      }
    },
    {
      "cell_type": "code",
      "source": [
        "sorszam = int(input(\"A vásárlás sorszáma: \"))\n",
        "\n",
        "vasarlas = tablazat3[sorszam]\n",
        "\n",
        "osszesen = 0\n",
        "for gyumolcs in vasarlas:\n",
        "  osszesen += ar(gyumolcs)\n",
        "\n",
        "print(f\"A termékekért {osszesen} Ft-ot fizettek.\")"
      ],
      "metadata": {
        "id": "PdkJNv25AHKd",
        "colab": {
          "base_uri": "https://localhost:8080/"
        },
        "outputId": "aaffed52-8475-403c-ebde-d57c222e956f"
      },
      "execution_count": 43,
      "outputs": [
        {
          "output_type": "stream",
          "name": "stdout",
          "text": [
            "A vásárlás sorszáma: 12\n",
            "A termékekért 8277 Ft-ot fizettek.\n"
          ]
        }
      ]
    },
    {
      "cell_type": "markdown",
      "source": [
        "#**5. Min-max-átlag**\n"
      ],
      "metadata": {
        "id": "NOAr_ldw8ROx"
      }
    },
    {
      "cell_type": "markdown",
      "source": [
        "##***5.1. feladat***\n",
        "Használd a *gyumolcsok3.txt* adatait. Határozd meg, és írd ki, hogy \n",
        "* mennyi, illetve melyik vásárásnál volt a minimum vásárolt mennyiség,\n",
        "* mennyi, melyik vásárásnálvolt a maximális vásárolt mennyiség\n",
        "* mennyi volt az átlagos vásárolt mennyiség egy tizedesjegyre kerekítve!\n",
        "\n",
        "Például:\n",
        "```\n",
        "A mimimum vásárolt mennyiség 1 volt, a 3. vásárlásnál.\n",
        "A maximum vásárolt mennyiség 23 volt, a 32. vásárlásnál.\n",
        "Átlagosan 5.4 terméket vásároltak.\n",
        "```"
      ],
      "metadata": {
        "id": "cSQcJ96B8vK-"
      }
    },
    {
      "cell_type": "code",
      "source": [
        "#Megoldás..."
      ],
      "metadata": {
        "id": "Vl8eDiVI8T8L"
      },
      "execution_count": null,
      "outputs": []
    },
    {
      "cell_type": "markdown",
      "source": [
        "##***5.2. feladat***\n",
        "Használd a gyumolcsok.txt adatait. Határozd meg, és írd ki, hogy\n",
        "\n",
        "* melyik országból hozták be a legkevesebb gyümölcsöt, és mennyit,\n",
        "* melyik országból hozták be a legtöbb gyümölcsöt, és mennyit!\n",
        "\n",
        "Például:\n",
        "```\n",
        "A legkevesebb terméket, 19 darabot, SK-ból hozták.\n",
        "A legtöbb terméket, 63 darabot, HU-ból hozták.\n",
        "```"
      ],
      "metadata": {
        "id": "cXTKsQXo9Gmu"
      }
    },
    {
      "cell_type": "code",
      "source": [
        "orszagok = []\n",
        "\n",
        "for i in range(len(tablazat)):\n",
        "  orszag = tablazat[i][-1]\n",
        "  if orszag not in orszagok:\n",
        "    orszagok.append(orszag)\n",
        "\n",
        "behozatal = []\n",
        "\n",
        "for orszag in orszagok:\n",
        "  aruk = 0\n",
        "\n",
        "  for i in range(len(tablazat)):\n",
        "    if tablazat[i][-1] == orszag:\n",
        "      aruk += int(tablazat[i][1])\n",
        "\n",
        "  behozatal.append(aruk)\n",
        "\n",
        "min_aru = min(behozatal)\n",
        "min_idx = behozatal.index(min_aru)\n",
        "\n",
        "max_aru = max(behozatal)\n",
        "max_idx = behozatal.index(max_aru)\n",
        "\n",
        "print(f\"A legkevesebb terméket, {min_aru} darabot, {orszagok[min_idx]}-ból hozták.\")\n",
        "print(f\"A legtöbb terméket, {max_aru} darabot, {orszagok[max_idx]}-ból hozták.\")"
      ],
      "metadata": {
        "id": "DeWS-cuy-qJp",
        "colab": {
          "base_uri": "https://localhost:8080/"
        },
        "outputId": "0bb9f308-4e7a-45a5-eaf9-b09c2b999da3"
      },
      "execution_count": 44,
      "outputs": [
        {
          "output_type": "stream",
          "name": "stdout",
          "text": [
            "A legkevesebb terméket, 132 darabot, SK-ból hozták.\n",
            "A legtöbb terméket, 204 darabot, A-ból hozták.\n"
          ]
        }
      ]
    }
  ]
}