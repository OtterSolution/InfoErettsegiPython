{
  "nbformat": 4,
  "nbformat_minor": 0,
  "metadata": {
    "colab": {
      "name": "GyakorlóFeladatok.ipynb",
      "provenance": [],
      "authorship_tag": "ABX9TyOaqXRQu0wTyvNuJL/rKNAf",
      "include_colab_link": true
    },
    "kernelspec": {
      "name": "python3",
      "display_name": "Python 3"
    },
    "language_info": {
      "name": "python"
    }
  },
  "cells": [
    {
      "cell_type": "markdown",
      "metadata": {
        "id": "view-in-github",
        "colab_type": "text"
      },
      "source": [
        "<a href=\"https://colab.research.google.com/github/OtterSolution/InfoErettsegiPython/blob/main/Gyakorl%C3%A1s/Gyakorl%C3%B3Feladatok.ipynb\" target=\"_parent\"><img src=\"https://colab.research.google.com/assets/colab-badge.svg\" alt=\"Open In Colab\"/></a>"
      ]
    },
    {
      "cell_type": "markdown",
      "source": [
        "#**1. Fájlok beolvasása**"
      ],
      "metadata": {
        "id": "E0XLprvLngqe"
      }
    },
    {
      "cell_type": "markdown",
      "source": [
        "##***1.1. feladat***\n",
        "Olvasd be *gyomolcsok.txt* fájlt, és tárold az adatait. Írasd ki hány bejegyzést tartalmazott a fájl!"
      ],
      "metadata": {
        "id": "3yXgf9m4sqTU"
      }
    },
    {
      "cell_type": "code",
      "source": [
        "#Megoldás..."
      ],
      "metadata": {
        "id": "_QHoGxdGnkjc"
      },
      "execution_count": null,
      "outputs": []
    },
    {
      "cell_type": "markdown",
      "source": [
        "##***1.2. feladat***\n",
        "Olvasd be a *gyumolcsok2.txt* fájlt és egy új változóban tárold az adatait!"
      ],
      "metadata": {
        "id": "fhrMdGNns9B5"
      }
    },
    {
      "cell_type": "code",
      "source": [
        "#Megoldás..."
      ],
      "metadata": {
        "id": "tU60EU2XpNa4"
      },
      "execution_count": null,
      "outputs": []
    },
    {
      "cell_type": "markdown",
      "source": [
        "##***1.3. feladat***\n",
        "Olvasd be a *gyumolcsok3.txt* fájlt és egy új változóban tárold az adatait! Írd ki, hogy hány vásárlás történt!\n",
        "\n",
        "Például:\n",
        "```\n",
        "Összesen 59 vásárlás történt\n",
        "```"
      ],
      "metadata": {
        "id": "kojUDQITtGp7"
      }
    },
    {
      "cell_type": "code",
      "source": [
        "#Megoldás..."
      ],
      "metadata": {
        "id": "HbJLngfSpWvI"
      },
      "execution_count": null,
      "outputs": []
    },
    {
      "cell_type": "markdown",
      "source": [
        "#**2. Függvények**"
      ],
      "metadata": {
        "id": "_p77r7EOv9lM"
      }
    },
    {
      "cell_type": "markdown",
      "source": [
        "##***2.1. feladat***\n",
        "Hozz létre egy függvényt *abszolut* néven. A függvény adja vissza egy adott szám abszolút értékét! Végezd el ezeket a következő számokra: `-15, 2, 36, -48`"
      ],
      "metadata": {
        "id": "WT-DdVJrwD0J"
      }
    },
    {
      "cell_type": "code",
      "source": [
        "#Megoldás..."
      ],
      "metadata": {
        "id": "BPFbOmWYqXyf"
      },
      "execution_count": null,
      "outputs": []
    },
    {
      "cell_type": "markdown",
      "source": [
        "##***2.2. feladat***\n",
        "Hozz létre egy függvényt *stringhossz* néven, ami visszaadja egy testszőleges szöveges változó hosszát!"
      ],
      "metadata": {
        "id": "-dVaV1BWwShb"
      }
    },
    {
      "cell_type": "code",
      "source": [
        "#Megoldás..."
      ],
      "metadata": {
        "id": "qek9VV1ewtoM"
      },
      "execution_count": null,
      "outputs": []
    },
    {
      "cell_type": "markdown",
      "source": [
        "##***2.3. feladat***\n",
        "Hozz létre egy függvényt *matek* néven, ami \n",
        "* 3-mat ad vissza, ha a szám osztható 2-vel és 3-mal is,\n",
        "* 2-t ad vissza ha csak hárommal osztható és 2-vel nem,\n",
        "* 1-et ad vissza, ha csak kettővel osztható, de 3-mal nem,\n",
        "* 0-t ad vissza, ha kettővel sem és hárommal sem osztható"
      ],
      "metadata": {
        "id": "uC7XiS2XwuPO"
      }
    },
    {
      "cell_type": "code",
      "source": [
        "#Megoldás..."
      ],
      "metadata": {
        "id": "im6iVlP5xbkA"
      },
      "execution_count": null,
      "outputs": []
    },
    {
      "cell_type": "markdown",
      "source": [
        "##***2.4. feladat***\n",
        "Hozz létre egy függvényt *ar* néven. A függvény kérje be a gyümölcs nevét, és adja vissza az árát. A gyümölcsök árai:\n",
        "* alma: 108\n",
        "* körte: 136\n",
        "* barack: 195\n",
        "* dinnye: 965\n",
        "* áfonya: 687"
      ],
      "metadata": {
        "id": "qNHq5mVC-x7_"
      }
    },
    {
      "cell_type": "code",
      "source": [
        "#Megoldás..."
      ],
      "metadata": {
        "id": "4F3Sl6eA_fbv"
      },
      "execution_count": null,
      "outputs": []
    },
    {
      "cell_type": "markdown",
      "source": [
        "#**3. Aggregálás**"
      ],
      "metadata": {
        "id": "9D8m644oxh98"
      }
    },
    {
      "cell_type": "markdown",
      "source": [
        "Első lépésben egyedi lista létrehozása:\n",
        "\n",
        "```\n",
        "egyedi_lista = []\n",
        "\n",
        "for i in range(len(eredeti_lista)):\n",
        "  elem = eredeti_lista(adott_eleme)\n",
        "\n",
        "  if elem not in egyedi_lista:\n",
        "    egyedi_lista.append(elem)\n",
        "\n",
        "```\n",
        "\n",
        "***VAGY***\n",
        "\n",
        "\n",
        "`egyedi_lista = list(set(eredeti_lista))`\n"
      ],
      "metadata": {
        "id": "gHUcl3b_xlob"
      }
    },
    {
      "cell_type": "markdown",
      "source": [
        "##***3.1. feladat***\n",
        "Használd a *gyumolcsok.txt* fájl adatait. Hozz létre egy fájlt, *vasarlas* néven és írd bele, hogy melyik gyümölcsből mennyit vásároltak, szóközzel elválasztva!\n",
        "\n",
        "Például:\n",
        "```\n",
        "alma 362\n",
        "körte 215\n",
        "...\n",
        "```"
      ],
      "metadata": {
        "id": "QnBvRVGv30cE"
      }
    },
    {
      "cell_type": "code",
      "source": [
        "#Megoldás..."
      ],
      "metadata": {
        "id": "CB2C9eAr9NHO"
      },
      "execution_count": null,
      "outputs": []
    },
    {
      "cell_type": "markdown",
      "source": [
        "##***3.2. feladat***\n",
        "Használd a *gyomulcsok.txt* fájl adatait. Hozz létre egy fáljt *orszagok* néven és írd bele, hogy melyik országból mennyi gyömülcs érkezett! Az ország neve és a darabszám között használj tabulátort.\n",
        "\n",
        "Például:\n",
        "```\n",
        "HU   398\n",
        "SLO  65\n",
        "...\n",
        "```"
      ],
      "metadata": {
        "id": "ppbkAQVH3zXD"
      }
    },
    {
      "cell_type": "code",
      "source": [
        "#Megoldás..."
      ],
      "metadata": {
        "id": "9mnXJqb19MmI"
      },
      "execution_count": null,
      "outputs": []
    },
    {
      "cell_type": "markdown",
      "source": [
        "##***3.3. feladat***\n",
        "Használd a *gyomulcsok.txt* fájl adatait. Írasd ki, hogy az egyes gyümölcsöket milyen arányban vásárolták! Az arányokat százalékos formában, egy tizedesjegyre kerekítve add meg! Az elválasztáshoz használj tabulátort!\n",
        "\n",
        "Például:\n",
        "```\n",
        "alma:  18.1%\n",
        "körte: 9.0%\n",
        "banán  11.9%\n",
        "...\n",
        "```"
      ],
      "metadata": {
        "id": "xxVQ0q8U9J9M"
      }
    },
    {
      "cell_type": "code",
      "source": [
        "#Megoldás..."
      ],
      "metadata": {
        "id": "EK94qFNd_XKX"
      },
      "execution_count": null,
      "outputs": []
    },
    {
      "cell_type": "markdown",
      "source": [
        "#**4. Keresés**"
      ],
      "metadata": {
        "id": "3x8Mibdl5ih4"
      }
    },
    {
      "cell_type": "markdown",
      "source": [
        "##***4.1. feladat***\n",
        "Használd a *gyumolcsok.txt* adatait. Írasd ki, hogy \n",
        "* melyik gyömölcsöt vásárolták a legkorábban,\n",
        "* melyiket legkésőbb,\n",
        "* illetve, hogy ezeket melyik országból vásárolták\n",
        "\n",
        "Például:\n",
        "\n",
        "```\n",
        "A legkorábban 9:00.kor vásároltak. Ekkor alma-t vettek, ami HU országkóddal van ellátva.\n",
        "A legkésőbb 17:59-kor vásároltak. Ekkor körte-t vettek, ami SLO országkóddal van ellátva.\n",
        "```\n",
        "\n",
        "\n"
      ],
      "metadata": {
        "id": "CIedbpUX5nSM"
      }
    },
    {
      "cell_type": "code",
      "source": [
        "#Megoldás..."
      ],
      "metadata": {
        "id": "fa07j1T-_WTW"
      },
      "execution_count": null,
      "outputs": []
    },
    {
      "cell_type": "markdown",
      "source": [
        "##***4.2. feladat***\n",
        "Használd a gyumolcsok.txt adatait. Kérj be egy országkódot! Határozd meg, hogy hány alkalommal vásároltak ebből az országból származó terméket!\n",
        "\n",
        "Például:\n",
        "\n",
        "\n",
        "\n",
        "\n",
        "```\n",
        "Országkód: HU\n",
        "HU országkóddal ellátott terméket 96 alkalommal vásároltak.\n",
        "```\n",
        "\n"
      ],
      "metadata": {
        "id": "qAEE6J7R6ZmH"
      }
    },
    {
      "cell_type": "code",
      "source": [
        "#Megoldás..."
      ],
      "metadata": {
        "id": "JpnkmPU8_Vpp"
      },
      "execution_count": null,
      "outputs": []
    },
    {
      "cell_type": "markdown",
      "source": [
        "##***4.3. feladat***\n",
        "Használd a gyumolcsok.txt adatait. Kérj be egy országkódot és egy gyümölcsöt! Határozd meg, hogy mikor vásároltak ezekből!\n",
        "\n",
        "Például:\n",
        "```\n",
        "Országkód: SLO\n",
        "Gyümölcs: banán\n",
        "SLO-ból banánt az alábbi időpontokban vásároltak:\n",
        "17:02\n",
        "18:57\n",
        "9:24\n",
        "10:15\n",
        "...\n",
        "```"
      ],
      "metadata": {
        "id": "mWkoxoLE7LDt"
      }
    },
    {
      "cell_type": "code",
      "source": [
        "#Megoldás..."
      ],
      "metadata": {
        "id": "bPr6O4Zc_Ud-"
      },
      "execution_count": null,
      "outputs": []
    },
    {
      "cell_type": "markdown",
      "source": [
        "##***4.4 feladat***\n",
        "Használd a gyumolcsok.txt adatait. Kérj be eg időpontot! Ha az adott időpontban történt vásárlás, írd ki, hogy milyen terméket és melyik országból vettek. Ha nem, írd ki, hogy \"ebben az időpontban nem történt vásárlás\"\n",
        "Például:\n",
        "```\n",
        "Időpont: 15:23\n",
        "Ebben az időpontban alma-t vettek HU-ból.\n",
        "```"
      ],
      "metadata": {
        "id": "Yz_OW-IU7yPB"
      }
    },
    {
      "cell_type": "code",
      "source": [
        "#Megoldás..."
      ],
      "metadata": {
        "id": "SEr60Z6a_TWk"
      },
      "execution_count": null,
      "outputs": []
    },
    {
      "cell_type": "markdown",
      "source": [
        "##***4.5. feladat***\n",
        "Használd a *gyumolcsok3.txt* fájl adatait. Kérj be egy sorszámot. A korábban létrehozott ***ar*** függvény segítségével határozd meg, hogy mennyit fizettek a vásárlás során!\n",
        "\n",
        "Például:\n",
        "```\n",
        "A vásárlás sorszáma: 1\n",
        "A termékekért 2351 Ft-ot fizettek.\n",
        "```"
      ],
      "metadata": {
        "id": "VoPdBvNq_s_J"
      }
    },
    {
      "cell_type": "code",
      "source": [
        "#Megoldás..."
      ],
      "metadata": {
        "id": "PdkJNv25AHKd"
      },
      "execution_count": null,
      "outputs": []
    },
    {
      "cell_type": "markdown",
      "source": [
        "#**5. Min-max-átlag**\n"
      ],
      "metadata": {
        "id": "NOAr_ldw8ROx"
      }
    },
    {
      "cell_type": "markdown",
      "source": [
        "##***5.1. feladat***\n",
        "Használd a *gyumolcsok3.txt* adatait. Határozd meg, és írd ki, hogy \n",
        "* mennyi, illetve melyik vásárásnál volt a minimum vásárolt mennyiség,\n",
        "* mennyi, melyik vásárásnálvolt a maximális vásárolt mennyiség\n",
        "* mennyi volt az átlagos vásárolt mennyiség egy tizedesjegyre kerekítve!\n",
        "\n",
        "Például:\n",
        "```\n",
        "A mimimum vásárolt mennyiség 1 volt, a 3. vásárlásnál.\n",
        "A maximum vásárolt mennyiség 23 volt, a 32. vásárlásnál.\n",
        "Átlagosan 5.4 terméket vásároltak.\n",
        "```"
      ],
      "metadata": {
        "id": "cSQcJ96B8vK-"
      }
    },
    {
      "cell_type": "code",
      "source": [
        "#Megoldás..."
      ],
      "metadata": {
        "id": "Vl8eDiVI8T8L"
      },
      "execution_count": null,
      "outputs": []
    },
    {
      "cell_type": "markdown",
      "source": [
        "##***5.2. feladat***\n",
        "Használd a gyumolcsok.txt adatait. Határozd meg, és írd ki, hogy\n",
        "\n",
        "* melyik országból hozták be a legkevesebb gyümölcsöt, és mennyit,\n",
        "* melyik országból hozták be a legtöbb gyümölcsöt, és mennyit!\n",
        "\n",
        "Például:\n",
        "```\n",
        "A legkevesebb terméket, 19 darabot, SK-ból hozták.\n",
        "A legtöbb terméket, 63 darabot, HU-ból hozták.\n",
        "```"
      ],
      "metadata": {
        "id": "cXTKsQXo9Gmu"
      }
    },
    {
      "cell_type": "code",
      "source": [
        "#Megoldás..."
      ],
      "metadata": {
        "id": "DeWS-cuy-qJp"
      },
      "execution_count": null,
      "outputs": []
    }
  ]
}